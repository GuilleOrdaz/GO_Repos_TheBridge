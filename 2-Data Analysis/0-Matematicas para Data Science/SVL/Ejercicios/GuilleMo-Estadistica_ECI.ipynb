{
 "cells": [
  {
   "cell_type": "markdown",
   "metadata": {},
   "source": [
    "# Ejercicio Estadística Entrevista"
   ]
  },
  {
   "cell_type": "markdown",
   "metadata": {},
   "source": [
    "![ECI](ECI_Analisis.png)"
   ]
  },
  {
   "cell_type": "code",
   "execution_count": 1,
   "metadata": {},
   "outputs": [],
   "source": [
    "import pandas as pd"
   ]
  },
  {
   "cell_type": "code",
   "execution_count": 4,
   "metadata": {},
   "outputs": [
    {
     "data": {
      "text/plain": [
       "0    123.375\n",
       "dtype: float64"
      ]
     },
     "execution_count": 4,
     "metadata": {},
     "output_type": "execute_result"
    }
   ],
   "source": [
    "tickets = [4,15,25,35,45,55,65,75,85,95,105,115,125,135,145,850]\n",
    "df_tickets = pd.DataFrame(tickets)\n",
    "df_tickets.mean()"
   ]
  },
  {
   "cell_type": "code",
   "execution_count": 5,
   "metadata": {},
   "outputs": [
    {
     "data": {
      "text/plain": [
       "0    80.0\n",
       "dtype: float64"
      ]
     },
     "execution_count": 5,
     "metadata": {},
     "output_type": "execute_result"
    }
   ],
   "source": [
    "df_tickets.median()"
   ]
  },
  {
   "cell_type": "markdown",
   "metadata": {},
   "source": [
    "La mediana es mas representativa que la media, puesto que el ultimo intervalo hace desvariar la media."
   ]
  },
  {
   "cell_type": "markdown",
   "metadata": {},
   "source": [
    "En este caso hay un valor atípico \"outlier\" que es el 850. Ya que dispara el valor del ticket medio \n",
    "en el ultimo intervalo respecto al resto de  los intervalos."
   ]
  },
  {
   "cell_type": "code",
   "execution_count": 9,
   "metadata": {},
   "outputs": [
    {
     "name": "stdout",
     "output_type": "stream",
     "text": [
      "El percentil 25 es:  42.5\n",
      "El percentil 50 es:  80.0\n",
      "El percentil 75 es:  117.5\n"
     ]
    }
   ],
   "source": [
    "import numpy as np\n",
    "\n",
    "arr = np.array(tickets)\n",
    "\n",
    "percentile50 = np.percentile(arr, 50)\n",
    "percentile25 = np.percentile(arr,25)\n",
    "percentile75 = np.percentile(arr,75)\n",
    "\n",
    "print(\"El percentil 25 es: \", percentile25)\n",
    "print(\"El percentil 50 es: \",percentile50)\n",
    "print(\"El percentil 75 es: \", percentile75)\n",
    "\n"
   ]
  }
 ],
 "metadata": {
  "kernelspec": {
   "display_name": "Python 3.7.4 64-bit",
   "language": "python",
   "name": "python3"
  },
  "language_info": {
   "codemirror_mode": {
    "name": "ipython",
    "version": 3
   },
   "file_extension": ".py",
   "mimetype": "text/x-python",
   "name": "python",
   "nbconvert_exporter": "python",
   "pygments_lexer": "ipython3",
   "version": "3.7.4"
  },
  "orig_nbformat": 4,
  "vscode": {
   "interpreter": {
    "hash": "b213cd0c7dc86fb09f7378e09d09f37ed50992d496516f682658e1f7568be4e1"
   }
  }
 },
 "nbformat": 4,
 "nbformat_minor": 2
}
