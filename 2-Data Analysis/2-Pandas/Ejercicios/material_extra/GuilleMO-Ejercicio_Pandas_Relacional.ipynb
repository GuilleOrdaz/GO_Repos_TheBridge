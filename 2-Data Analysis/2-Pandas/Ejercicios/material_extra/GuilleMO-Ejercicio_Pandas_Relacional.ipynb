{
 "cells": [
  {
   "cell_type": "markdown",
   "metadata": {},
   "source": [
    "# Ejercicio de repaso: BBDD Relacionales"
   ]
  },
  {
   "cell_type": "markdown",
   "metadata": {},
   "source": [
    "Ejercicio sacado directamente de una entrevista de trabajo para una conocida compañía de retail."
   ]
  },
  {
   "cell_type": "markdown",
   "metadata": {},
   "source": [
    "![tablas1](img/Tablas-1.png)\n",
    "![tablas3](./img/Tablas-3.png)"
   ]
  },
  {
   "cell_type": "markdown",
   "metadata": {},
   "source": [
    "## 1. Crea un DataFrame por cada tabla"
   ]
  },
  {
   "cell_type": "code",
   "execution_count": 1,
   "metadata": {},
   "outputs": [],
   "source": [
    "import pandas as pd"
   ]
  },
  {
   "cell_type": "code",
   "execution_count": null,
   "metadata": {},
   "outputs": [],
   "source": [
    "area = pd.Series({'California': 423967, 'Texas': 695662,\n",
    "                  'New York': 141297, 'Florida': 170312,\n",
    "                  'Illinois': 149995})\n",
    "pop = pd.Series({'California': 38332521, 'Texas': 26448193,\n",
    "                 'New York': 19651127, 'Florida': 19552860,\n",
    "                 'Illinois': 12882135})\n",
    "data = pd.DataFrame({'area':area, 'pop':pop})\n",
    "\n"
   ]
  },
  {
   "cell_type": "code",
   "execution_count": 8,
   "metadata": {},
   "outputs": [
    {
     "name": "stdout",
     "output_type": "stream",
     "text": [
      "  ID_CAMPANIA      TIPO  FECHA_CAMP\n",
      "0         CA1     VENTA    5/0/2012\n",
      "1         CA2     VENTA    4/2/2012\n",
      "2         CA3  POSVENTA   2/10/2009\n",
      "3         CA4     VENTA    6/5/2010\n",
      "4         CA5  POSVENTA  31/11/2010\n",
      "5         CA6  POSVENTA    7/2/2015\n",
      "  ID_DPTO ID_CAMPANIA\n",
      "0       1         CA1\n",
      "1       1         CA4\n",
      "2       2         CA2\n",
      "3       3         CA2\n",
      "4       3         CA5\n",
      "5       3         CA6\n",
      "6       4         CA1\n",
      "7       4         CA2\n",
      "8       4         CA3\n",
      "9       4         CA6\n",
      "  TALON REFERENCIA  PRECIO FECHA_VENTA\n",
      "0    01          A   15.00   11/2/2012\n",
      "1    02          A   18.00   15/2/2012\n",
      "2    03          A   14.00   2/10/2013\n",
      "3    04          D   37.95    6/8/2010\n",
      "4    05          E  125.95  31/11/2010\n",
      "5    06          E  150.00    5/2/2011\n",
      "6    07          H   22.99   11/4/2010\n",
      "7    08          H   24.00    8/8/2011\n"
     ]
    }
   ],
   "source": [
    "from pandas import Series\n",
    "\n",
    "campanias = {'ID_CAMPANIA': ['CA1','CA2','CA3','CA4','CA5','CA6'],\n",
    "            'TIPO': ['VENTA','VENTA','POSVENTA','VENTA','POSVENTA','POSVENTA'],\n",
    "            'FECHA_CAMP': ['5/0/2012', '4/2/2012', '2/10/2009', '6/5/2010', '31/11/2010', '7/2/2015']}\n",
    "\n",
    "depto_campania = {'ID_DPTO': [\"1\",\"1\",\"2\",\"3\",\"3\",\"3\",\"4\",\"4\",\"4\",\"4\"],\n",
    "                    'ID_CAMPANIA': ['CA1','CA4','CA2','CA2','CA5','CA6','CA1','CA2','CA3','CA6']} \n",
    "\n",
    "venta = {'TALON': ['01','02','03','04','05','06','07','08'],\n",
    "            'REFERENCIA': ['A','A','A','D','E','E','H','H'],\n",
    "            'PRECIO': [15,18,14,37.95,125.95,150,22.99,24],\n",
    "            'FECHA_VENTA': ['11/2/2012','15/2/2012','2/10/2013','6/8/2010','31/11/2010','5/2/2011','11/4/2010','8/8/2011']} \n",
    "\n",
    "df4 = pd.DataFrame(campanias)\n",
    "df5 = pd.DataFrame(depto_campania)\n",
    "df6 = pd.DataFrame(venta) \n",
    "\n",
    "print(df4)\n",
    "print(df5)\n",
    "print(df6)\n",
    "                    "
   ]
  },
  {
   "cell_type": "markdown",
   "metadata": {},
   "source": [
    "## 2. Genera una consulta que obtenga la lista ordenada de todas las referencias sin venta"
   ]
  },
  {
   "cell_type": "code",
   "execution_count": null,
   "metadata": {},
   "outputs": [],
   "source": []
  },
  {
   "cell_type": "markdown",
   "metadata": {},
   "source": [
    "## 3. Genera una consulta que obtenga las ventas comprendidas entre 2010 y 2011 (ambos incluidos), que estén asociados a una campaña de tipo VENTA y que sean del departamento de JOYERÍA."
   ]
  },
  {
   "cell_type": "code",
   "execution_count": null,
   "metadata": {},
   "outputs": [],
   "source": []
  },
  {
   "cell_type": "markdown",
   "metadata": {},
   "source": [
    "## 4. Genere una consulta que cree un campo “co_ranking” que clasifique en orden ascendente las campañas según el total de venta, siendo 1 la campaña que más ha vendido y N la que menos. (N = Total de campañas)"
   ]
  },
  {
   "cell_type": "code",
   "execution_count": null,
   "metadata": {},
   "outputs": [],
   "source": []
  },
  {
   "cell_type": "markdown",
   "metadata": {},
   "source": [
    "## 5. Clasifique todas las ventas en Mayor, Igual o Menor precio respecto a la media de los precios de todas las ventas realizadas."
   ]
  },
  {
   "cell_type": "markdown",
   "metadata": {},
   "source": [
    "**Resultado**:\n",
    "\n",
    "\n",
    "![tablares](img/Tablas-4.png)"
   ]
  },
  {
   "cell_type": "code",
   "execution_count": null,
   "metadata": {},
   "outputs": [],
   "source": []
  },
  {
   "cell_type": "markdown",
   "metadata": {},
   "source": [
    "# 7. Genere una consulta que para cada campaña de tipo “venta” obtenga el talón medio, precio medio, nº de referencias compradas y nº de talones con venta superior al talón medio."
   ]
  },
  {
   "cell_type": "code",
   "execution_count": null,
   "metadata": {},
   "outputs": [],
   "source": []
  },
  {
   "cell_type": "markdown",
   "metadata": {},
   "source": [
    "## 8. Genere una o varias consultas que devulevan las combinaciones de familias y campañas cuya venta haya sido superior a 100€."
   ]
  },
  {
   "cell_type": "code",
   "execution_count": null,
   "metadata": {},
   "outputs": [],
   "source": []
  },
  {
   "cell_type": "markdown",
   "metadata": {},
   "source": [
    "## 9. Genere una o varias consultas que permitan catalogar los artículos vendidos y que no son de la Campaña CA1, según si se tratan de artículos de Ropa o Accesorios. En base a los departamentos y familias. NOTA: Se valorará la elaboración de la consulta y no la veracidad del propio catálogo)"
   ]
  },
  {
   "cell_type": "code",
   "execution_count": null,
   "metadata": {},
   "outputs": [],
   "source": []
  },
  {
   "cell_type": "markdown",
   "metadata": {},
   "source": [
    "## 10. Genere una o varias consultas que devuelvan la variación del total de venta entre años. Tomando como variación la siguiente fórmula $$\\dfrac{Year_{n} – Year_{n-1}}{Year_{n-1}}$$ (Se valorará el control de valores 0 en la división o de indeterminaciones)"
   ]
  },
  {
   "cell_type": "markdown",
   "metadata": {},
   "source": [
    "![tablas5](img/Tablas-5.png)"
   ]
  },
  {
   "cell_type": "code",
   "execution_count": null,
   "metadata": {},
   "outputs": [],
   "source": []
  }
 ],
 "metadata": {
  "kernelspec": {
   "display_name": "Python 3.7.4 64-bit",
   "language": "python",
   "name": "python3"
  },
  "language_info": {
   "codemirror_mode": {
    "name": "ipython",
    "version": 3
   },
   "file_extension": ".py",
   "mimetype": "text/x-python",
   "name": "python",
   "nbconvert_exporter": "python",
   "pygments_lexer": "ipython3",
   "version": "3.7.4"
  },
  "orig_nbformat": 4,
  "vscode": {
   "interpreter": {
    "hash": "b213cd0c7dc86fb09f7378e09d09f37ed50992d496516f682658e1f7568be4e1"
   }
  }
 },
 "nbformat": 4,
 "nbformat_minor": 2
}
