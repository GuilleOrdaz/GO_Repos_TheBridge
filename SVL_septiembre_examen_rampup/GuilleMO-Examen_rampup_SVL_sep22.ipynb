{
 "cells": [
  {
   "cell_type": "markdown",
   "metadata": {},
   "source": [
    "# Examen Ramp-Up Sevilla Septiembre 2022"
   ]
  },
  {
   "cell_type": "markdown",
   "metadata": {},
   "source": [
    "**Aviso**: En todos los ejercicios se valorarán las buenas prácticas de programación como una parte importante de la calificación (comentarios, nombres de variables autoexplicativas)."
   ]
  },
  {
   "cell_type": "markdown",
   "metadata": {},
   "source": [
    "## Ejercicio 1: Tipos de Datos (4 puntos)"
   ]
  },
  {
   "cell_type": "markdown",
   "metadata": {},
   "source": [
    "En este ejercicio se va a crear una lista con los siguientes elementos. \n",
    "\n",
    "**IMPORTANTE**: En todos los casos, hacer print del resultado y del tipo.\n",
    "\n",
    "Primero, crearemos las variables que luego añadiremos a la lista. Las variables son las siguientes:\n",
    "\n",
    "1. Crea una variable llamada `edad` de tipo Integer que represente tu edad en años. \n",
    "2. Crea una variable llamada `nombre` de tipo String con tu nombre y otra `apellidos` con tus apellidos\n",
    "3. Concatena tu nombre seguido de un espacio en blanco y la inicial de tu primer apellido a partir de `nombre` y `apellidos`. Guárdala en `nombre_y_apellidos`.\n",
    "4. Crea una variable llamada `altura` con el valor de tu altura en metros de tipo float.\n",
    "5. Crea una variable llamada `tipo_ord` de tipo Boolean True si usas Windows y False si usas Mac.\n",
    "6. Crea una variable llamada `nada` de tipo None cuyo valor sea None.\n",
    "\n",
    "#### Listas\n",
    "8. Crea una variable llamada `lista_series` de tipo List que contenga las 5 series de TV que más te gusten. Cada elemento ha de ser de tipo String.\n",
    "9.  Añade todos estos elementos en una lista llamada `lista_examen` en el orden de aparición **usando métodos de lista**. \n",
    "10. Crea `lista_examen_mod_edad` idéntica a `lista_examen` pero sustituyendo la edad por la edad + 10.\n",
    "11. Elimina un elemento de `lista_examen_mod_edad` y guárdalo en una variable.\n",
    "\n",
    "#### Diccionarios\n",
    "11. Crea una variable llamada `dict_info` con dos keys y dos values. Una key es `ciudad`, teniendo como value la ciudad en la que vives. Otra key es `portal`, teniendo como value el número de tu calle.\n",
    "12. Muestra las claves, valores e items de `dict_info`\n",
    "13. Elimina un item usando su clave.\n",
    "\n",
    "#### Tuplas\n",
    "13. Crea una variable llamada `tupla_ropa` de tipo Tuple con la marca de la prenda superior, inferior y calzado que llevas puesto.\n",
    "14. Accede a los elementos de `tupla_ropa` y muéstralos por pantalla\n",
    "15. Convierte `tupla_ropa` en una lista `lista_ropa` usando la función necesaria para ello.\n"
   ]
  },
  {
   "cell_type": "code",
   "execution_count": 29,
   "metadata": {
    "scrolled": true
   },
   "outputs": [
    {
     "name": "stdout",
     "output_type": "stream",
     "text": [
      "25\n",
      "Guillermo\n",
      "Martin Ordaz\n",
      "\n",
      "Guillermo Martin Ordaz\n",
      "\n",
      "1.81\n",
      "True\n",
      "None\n"
     ]
    }
   ],
   "source": [
    "#1.1\n",
    "\n",
    "edad=(25)\n",
    "print(edad)\n",
    "\n",
    "#1.2\n",
    "\n",
    "nombre = \"Guillermo\"\n",
    "apellidos = \"Martin Ordaz\"\n",
    "print(nombre)\n",
    "print(apellidos)\n",
    "\n",
    "print()\n",
    "#1.3\n",
    "nombre_y_apellidos = str(nombre,)+\" \"+ str(apellidos)\n",
    "print(nombre_y_apellidos)\n",
    "\n",
    "print()\n",
    "\n",
    "#1.4\n",
    "altura = float(1.81)\n",
    "print(altura)\n",
    "\n",
    "#1.5\n",
    "tipo_ord = (True)\n",
    "print(tipo_ord)\n",
    "\n",
    "#1.6\n",
    "nada = (None)\n",
    "print(nada)"
   ]
  },
  {
   "cell_type": "code",
   "execution_count": 32,
   "metadata": {},
   "outputs": [
    {
     "name": "stdout",
     "output_type": "stream",
     "text": [
      "[35, 'Guillermo', 'Guillermo Martin Ordaz', 1.81, True, None, ['Stranger Things', 'Dark', 'Sex Education', 'Breaking Bad', 'LOTR']]\n"
     ]
    }
   ],
   "source": [
    "(edad),(nombre),(apellidos),(nombre_y_apellidos),(altura),(tipo_ord),(nada),(lista_series)\n",
    "print(lista_examen)"
   ]
  },
  {
   "cell_type": "code",
   "execution_count": 33,
   "metadata": {
    "scrolled": true
   },
   "outputs": [
    {
     "name": "stdout",
     "output_type": "stream",
     "text": [
      "['Stranger Things', 'Dark', 'Sex Education', 'Breaking Bad', 'LOTR']\n",
      "\n",
      "[25, 'Guillermo', 'Guillermo Martin Ordaz', 1.81, True, None, ['Stranger Things', 'Dark', 'Sex Education', 'Breaking Bad', 'LOTR']]\n"
     ]
    }
   ],
   "source": [
    "#Listas\n",
    "#1.8\n",
    "\n",
    "lista_series = [\"Stranger Things\",\"Dark\",\"Sex Education\",\"Breaking Bad\",\"LOTR\"]\n",
    "print(lista_series)\n",
    "print()\n",
    "#1.9 Se crea una lista vacia y con el metodo append se van añadiendo las variables\n",
    "lista_examen = []\n",
    "\n",
    "lista_examen.append(edad)\n",
    "lista_examen.append(nombre)\n",
    "lista_examen.append(nombre_y_apellidos)\n",
    "lista_examen.append(altura)\n",
    "lista_examen.append(tipo_ord)\n",
    "lista_examen.append(nada)\n",
    "lista_examen.append(lista_series)\n",
    "\n",
    "\n",
    "print(lista_examen)"
   ]
  },
  {
   "cell_type": "code",
   "execution_count": 34,
   "metadata": {},
   "outputs": [
    {
     "name": "stdout",
     "output_type": "stream",
     "text": [
      "[35, 'Guillermo', 'Guillermo Martin Ordaz', 1.81, True, None, ['Stranger Things', 'Dark', 'Sex Education', 'Breaking Bad', 'LOTR']]\n",
      "\n",
      "[35, 'Guillermo', 'Guillermo Martin Ordaz', 1.81, True, None, ['Stranger Things', 'Dark', 'Sex Education', 'Breaking Bad', 'LOTR']]\n"
     ]
    }
   ],
   "source": [
    "#1.10 #Hacemos un bucle for y decimos: \"Cuando la i reccorra la lista, y sea igual a 25, súmale 10 al índice 0 de lista_examen\"\n",
    "\n",
    "for i in lista_examen:\n",
    "    if i==25:\n",
    "        lista_examen[0]=i+10\n",
    "\n",
    "print(lista_examen)\n",
    "print()\n",
    "lista_examen_mod_edad= lista_examen.copy()\n",
    "print(lista_examen_mod_edad)"
   ]
  },
  {
   "cell_type": "code",
   "execution_count": 35,
   "metadata": {},
   "outputs": [
    {
     "name": "stdout",
     "output_type": "stream",
     "text": [
      "['Stranger Things', 'Dark', 'Sex Education', 'Breaking Bad', 'LOTR']\n"
     ]
    }
   ],
   "source": [
    "#1.11\n",
    "nueva_lista = lista_examen_mod_edad.pop(6)\n",
    "\n",
    "print(nueva_lista)\n",
    "\n"
   ]
  },
  {
   "cell_type": "code",
   "execution_count": 43,
   "metadata": {},
   "outputs": [
    {
     "name": "stdout",
     "output_type": "stream",
     "text": [
      "{'ciudad': 'Sevilla', 'portal': '5'}\n",
      "ciudad Sevilla\n",
      "portal 5\n",
      "\n",
      "dict_keys(['ciudad', 'portal'])\n",
      "dict_values(['Sevilla', '5'])\n",
      "dict_items([('ciudad', 'Sevilla'), ('portal', '5')])\n"
     ]
    }
   ],
   "source": [
    "#1.11.2\n",
    "dict_info = {\"ciudad\":\"Sevilla\" ,\"portal\":\"5\"}\n",
    "\n",
    "print(dict_info)\n",
    "\n",
    "#12 Se puede hacer de dos formas: La primera haciendo un bucle que coja las keys, valores mediante el items de dict_info.\n",
    "#la segunda sería poniendo print(dict_info.keys()),despues print(dict_info.values()) y por útlimo print(dict_info.items())\n",
    "\n",
    "for k,v in dict_info.items():\n",
    "    print(k,v)\n",
    "print()\n",
    "\n",
    "print(dict_info.keys())\n",
    "print(dict_info.values())\n",
    "print(dict_info.items())"
   ]
  },
  {
   "cell_type": "code",
   "execution_count": 41,
   "metadata": {},
   "outputs": [
    {
     "name": "stdout",
     "output_type": "stream",
     "text": [
      "{'portal': '5'}\n"
     ]
    }
   ],
   "source": [
    "#13 \n",
    "\n",
    "dict_info.pop(\"ciudad\")\n",
    "\n",
    "print(dict_info)"
   ]
  },
  {
   "cell_type": "code",
   "execution_count": 45,
   "metadata": {},
   "outputs": [
    {
     "name": "stdout",
     "output_type": "stream",
     "text": [
      "('Scalpers', 'Ganso', 'Nike')\n",
      "\n",
      "Scalpers\n",
      "Ganso\n",
      "Nike\n",
      "\n",
      "['Scalpers', 'Ganso', 'Nike']\n"
     ]
    }
   ],
   "source": [
    "#13 Tuplas\n",
    "tupla_ropa = (\"Scalpers\", \"Ganso\",\"Nike\")\n",
    "print(tupla_ropa)\n",
    "print()\n",
    "#14 \n",
    "print(tupla_ropa[0])\n",
    "print(tupla_ropa[1])\n",
    "print(tupla_ropa[2])\n",
    "\n",
    "print()\n",
    "#15\n",
    "nueva_lista2 = list(tupla_ropa)\n",
    "print(nueva_lista2)"
   ]
  },
  {
   "cell_type": "markdown",
   "metadata": {},
   "source": [
    "## Ejercicio 2: Funciones (1.5 puntos)"
   ]
  },
  {
   "cell_type": "markdown",
   "metadata": {},
   "source": [
    "1. Crea una función que, dado un input `x`, devuelva \n",
    "$$\n",
    "y = 4x + 2\n",
    "$$\n",
    "\n",
    "2. Crea una función que, dado un input `x`, devuelva \n",
    "$$\n",
    "y = 3x^2 + 4x + 2\n",
    "$$\n",
    "\n",
    "3. Dado el polinomio\n",
    "\n",
    "$$\n",
    "a_nx^n + a_{n-1}x^{n-1} + ... + a_1x + a_0\n",
    "$$\n",
    "\n",
    "Crea una función que reciba como input `x` y una lista de `[a_0, ..., a_n]` y devuelva el valor del polinomio en `x`.\n",
    "\n",
    "**Nota**: En caso de no poder con una función, hacerlo como se pueda.\n",
    "\n",
    "**Pista**: El primero cumple `n = 1` y los parámetros son `[2, 4]`. El segundo: `n = 2` y los parámetros `[2, 4, 3]`. Con esta información, intenta generalizar."
   ]
  },
  {
   "cell_type": "code",
   "execution_count": 109,
   "metadata": {},
   "outputs": [
    {
     "name": "stdout",
     "output_type": "stream",
     "text": [
      "0\n",
      "1\n",
      "2\n",
      "None\n"
     ]
    }
   ],
   "source": [
    "\n",
    " \n",
    "\n",
    "def funcion(x,coefs):\n",
    "    for idx in range(len(coefs)):\n",
    "        print(idx)\n",
    "\n",
    "print(funcion(1,[2,4,3]))\n",
    "    \n",
    "    "
   ]
  },
  {
   "cell_type": "markdown",
   "metadata": {},
   "source": [
    "## Ejercicio 3: Git (1 punto)"
   ]
  },
  {
   "cell_type": "markdown",
   "metadata": {},
   "source": [
    "Di si las siguientes afirmaciones son verdaderas o falsas. En caso de ser falsa, justifica tu respuesta.\n",
    "\n",
    "1. Git es un sistema de control de versiones\n",
    "2. Con `git pull` subimos los cambios al remoto\n",
    "3. En clase usamos `HTTP` como protocolo para comunicarnos con el remoto\n",
    "4. El README contiene la información resumida del proyecto\n",
    "5. Para trackear los ficheros hacemos `git commit`"
   ]
  },
  {
   "cell_type": "code",
   "execution_count": null,
   "metadata": {},
   "outputs": [],
   "source": [
    "#1. Verdadero\n",
    "#2. Falso. Con Git Pull actuaizamos los cambios. Sería mas bien \"Con git pull bajamos los cambios del remoto\"\n",
    "#3. Falso. Se usa el protocolo SSH para comunicarnos con el remoto\n",
    "#4. Verdadero\n",
    "#5. Falso. Para trackear los ficheros, el primer paso sería git add -A (en caso de guardar todos los ficheros) o git add y \n",
    "#el nombre del archivo que queramos guardar. Y despues hacer Git commit para confirmar esos cambios guardados. Finalmente habria\n",
    "#que hacer git push para subir los ficheros al repo remoto."
   ]
  },
  {
   "cell_type": "markdown",
   "metadata": {},
   "source": [
    "## Ejercicio 4: Flujos de Control (1.5 puntos)"
   ]
  },
  {
   "cell_type": "markdown",
   "metadata": {},
   "source": [
    "1. Hacer un programa que permita saber si un año es bisiesto. Para que un año sea bisiesto debe ser divisible por 4 y no debe ser divisible por 100, excepto que también sea divisible por 400.\n",
    "2. Hacer un programa que, dado un número, nos diga si es Real o Entero.\n",
    "3. Declara una variable numérica que será una hora cualquiera del día. Implementa mediante sentencias `if/elif/else` la siguiente casuística:\n",
    "   * Si es entre las 0 y las 8, print \"Durmiendo\"\n",
    "   * Si es entre las 9 y las 18, print \"Trabajando\"\n",
    "   * Si es entre las 19 y las 21, print \"Clase\"\n",
    "   * Si es entre las 22 y las 24, print \"Descanso\"\n",
    "   * En cualquier otro caso, print \"Transporte o error\""
   ]
  },
  {
   "cell_type": "code",
   "execution_count": 56,
   "metadata": {},
   "outputs": [
    {
     "name": "stdout",
     "output_type": "stream",
     "text": [
      "Introduce un año: 2024\n",
      "Año Bisiesto\n"
     ]
    }
   ],
   "source": [
    "#1\n",
    "\n",
    "Bisi = int(input(\"Introduce un año: \"))\n",
    "\n",
    "\n",
    "if Bisi %4 == 0 & Bisi %100 != 0:\n",
    "    print(\"Año Bisiesto\")\n",
    "\n",
    "if Bisi %4 == 0 & Bisi %100 & Bisi %400 == 0:\n",
    "    print(\"Año Bisiesto\")\n",
    "\n",
    "if Bisi  %4 != 0:\n",
    "    print(\"Año no bisiesto\")\n",
    "\n",
    "if Bisi  %4 == 0 & Bisi %100 == 0 & Bisi %400 != 0:\n",
    "          print(\"Año no bisiesto\")"
   ]
  },
  {
   "cell_type": "code",
   "execution_count": 84,
   "metadata": {},
   "outputs": [
    {
     "name": "stdout",
     "output_type": "stream",
     "text": [
      "El numero es real\n"
     ]
    }
   ],
   "source": [
    "#2\n",
    "num = 2.5\n",
    "\n",
    "type(num) == int\n",
    "type(num) == float\n",
    "\n",
    "if type(num) == int:\n",
    "    print(\"El numero es entero\")\n",
    "elif type(num) == float:\n",
    "    print(\"El numero es real\")\n"
   ]
  },
  {
   "cell_type": "code",
   "execution_count": 70,
   "metadata": {},
   "outputs": [
    {
     "name": "stdout",
     "output_type": "stream",
     "text": [
      "Trabajando\n"
     ]
    }
   ],
   "source": [
    "#3 \n",
    "import datetime\n",
    "horas = datetime.datetime.now()\n",
    "horas1 = (horas.hour)\n",
    "\n",
    "if (horas1 >= 0)&(horas1 <= 8):\n",
    "    print(\"Durmiendo\")\n",
    "elif (horas1 >= 9)&(horas1 <= 18):\n",
    "    print(\"Trabajando\")\n",
    "elif (horas1 >= 19)&(horas <= 21):\n",
    "    print(\"Clase\")\n",
    "elif (horas1 >= 22)&(horas1 <= 24):\n",
    "    print(\"Descanso\")\n",
    "elif (horas1 > 24):\n",
    "    print(\"Transporte o error\")\n",
    "\n",
    "#He importado datetime y despues he nombrado la variable horas1 para recoger la hora actual en la que estoy realizando\n",
    "#el ejercicio. Como esta entre la franja comprendida entre las 9 y las 18 horas, imprime por pantalla \"Trabajando\""
   ]
  },
  {
   "cell_type": "markdown",
   "metadata": {},
   "source": [
    "## Ejercicio 5: Calculadora simple (2 Puntos)"
   ]
  },
  {
   "cell_type": "markdown",
   "metadata": {},
   "source": [
    "Construye un programa que:\n",
    "\n",
    "- Salude al usuario por su nombre\n",
    "- Le pregunte si quiere sumar, restar, multiplicar o dividir\n",
    "- Pida que introduzca 2 números de manera sucesiva\n",
    "- Devuelva el resultado de manera formal con un mensaje apropiado \n",
    "\n",
    "**Ayuda**: No se puede dividir por 0"
   ]
  },
  {
   "cell_type": "code",
   "execution_count": 80,
   "metadata": {},
   "outputs": [
    {
     "ename": "SyntaxError",
     "evalue": "EOL while scanning string literal (3176532354.py, line 6)",
     "output_type": "error",
     "traceback": [
      "\u001b[1;36m  File \u001b[1;32m\"C:\\Users\\usuario\\AppData\\Local\\Temp\\ipykernel_8484\\3176532354.py\"\u001b[1;36m, line \u001b[1;32m6\u001b[0m\n\u001b[1;33m    return print(f\"Primer numero:{num1}\u001b[0m\n\u001b[1;37m                                        ^\u001b[0m\n\u001b[1;31mSyntaxError\u001b[0m\u001b[1;31m:\u001b[0m EOL while scanning string literal\n"
     ]
    }
   ],
   "source": [
    "def cal_simp(num1,num2):\n",
    "    saludo = (\"Ha activado la CALCULADORA SIMPLE\")\n",
    "    return print(saludo)\n",
    "    welcome = (f\"Bienvenido {nombre}\")\n",
    "    return print(welcome)\n",
    "    return print(f\"Primer numero:{num1} \n",
    "    oper = \"Operación: \"\n",
    "    if oper !== + | oper != - | oper != *, oper!= %:\n",
    "        print(\"Operación incorrecta. Solo se pueden hacer sumas restas multiplicaciones y divisiones\")\n",
    "    return print(oper)\n",
    "    return print(f\"Segundo numero: {num2})\n",
    "    return print(num2)\n",
    "    resultado = f(\"El resultado de {num1} {oper} {num2} es: \")\n",
    "    return print(resultado)\n",
    "    \n",
    "    \n",
    "   \n",
    "        \n",
    "    "
   ]
  },
  {
   "cell_type": "markdown",
   "metadata": {},
   "source": [
    "## Ejercicio 6 (Subir Nota): Text Beautifier"
   ]
  },
  {
   "cell_type": "markdown",
   "metadata": {},
   "source": [
    "Dado el string `\"HeyYy cOmo EstAas\"`:\n",
    "\n",
    "    - Pasa todo a minúsculas con el método adecuado de la clase `str`\n",
    "    - Pon las iniciales de cada palabra en mayúscula\n",
    "    - Convierte el string en una lista de palabras\n",
    "    - Elimina las `y`"
   ]
  },
  {
   "cell_type": "code",
   "execution_count": 99,
   "metadata": {},
   "outputs": [
    {
     "name": "stdout",
     "output_type": "stream",
     "text": [
      "heyyy como estaas\n",
      "H\n",
      "C\n",
      "E\n"
     ]
    },
    {
     "ename": "TypeError",
     "evalue": "argument of type 'int' is not iterable",
     "output_type": "error",
     "traceback": [
      "\u001b[1;31m---------------------------------------------------------------------------\u001b[0m",
      "\u001b[1;31mTypeError\u001b[0m                                 Traceback (most recent call last)",
      "\u001b[1;32m~\\AppData\\Local\\Temp\\ipykernel_8484\\871919938.py\u001b[0m in \u001b[0;36m<module>\u001b[1;34m\u001b[0m\n\u001b[0;32m     19\u001b[0m \u001b[1;33m\u001b[0m\u001b[0m\n\u001b[0;32m     20\u001b[0m \u001b[0mi\u001b[0m \u001b[1;33m=\u001b[0m \u001b[1;36m0\u001b[0m\u001b[1;33m\u001b[0m\u001b[1;33m\u001b[0m\u001b[0m\n\u001b[1;32m---> 21\u001b[1;33m \u001b[1;32mwhile\u001b[0m \u001b[0mi\u001b[0m \u001b[1;32min\u001b[0m \u001b[0mlen\u001b[0m\u001b[1;33m(\u001b[0m\u001b[0mfrase2\u001b[0m\u001b[1;33m)\u001b[0m\u001b[1;33m:\u001b[0m\u001b[1;33m\u001b[0m\u001b[1;33m\u001b[0m\u001b[0m\n\u001b[0m\u001b[0;32m     22\u001b[0m     \u001b[0mfrase2\u001b[0m\u001b[1;33m[\u001b[0m\u001b[0mi\u001b[0m\u001b[1;33m]\u001b[0m \u001b[1;33m=\u001b[0m \u001b[0mfrase2\u001b[0m\u001b[1;33m[\u001b[0m\u001b[1;36m0\u001b[0m\u001b[1;33m]\u001b[0m\u001b[1;33m\u001b[0m\u001b[1;33m\u001b[0m\u001b[0m\n\u001b[0;32m     23\u001b[0m     \u001b[0mprint\u001b[0m\u001b[1;33m(\u001b[0m\u001b[0minicia1\u001b[0m\u001b[1;33m.\u001b[0m\u001b[0mupper\u001b[0m\u001b[1;33m(\u001b[0m\u001b[1;33m)\u001b[0m\u001b[1;33m)\u001b[0m\u001b[1;33m\u001b[0m\u001b[1;33m\u001b[0m\u001b[0m\n",
      "\u001b[1;31mTypeError\u001b[0m: argument of type 'int' is not iterable"
     ]
    }
   ],
   "source": [
    "frase = \"HeyYy cOmo EstAas\"\n",
    "frase2 = frase.lower()\n",
    "\n",
    "print(frase2)\n",
    "\n",
    "len(frase2)\n",
    "\n",
    "# print(frase2[0])\n",
    "# print(frase2[6])\n",
    "# print(frase2[11])\n",
    "\n",
    "inicia1 = frase2[0]\n",
    "inicia2 = frase2[6]\n",
    "inicia3 = frase2[11]\n",
    "\n",
    "print(inicia1.upper())\n",
    "print(inicia2.upper())\n",
    "print(inicia3.upper())\n",
    "\n",
    "i = 0 \n",
    "while i in len(frase2):\n",
    "    frase2[i] = frase2[0]\n",
    "    print(inicia1.upper())\n",
    "    frase2[i] = frase2[6]\n",
    "    print(inicia2.upper())\n",
    "    frase2[i] = frase2[11]\n",
    "    print(inicia3.upper())\n",
    "    i += 1\n",
    "    print(frase2)\n"
   ]
  },
  {
   "cell_type": "code",
   "execution_count": 100,
   "metadata": {
    "scrolled": true
   },
   "outputs": [
    {
     "name": "stdout",
     "output_type": "stream",
     "text": [
      "['h', 'e', 'y', 'y', 'y', ' ', 'c', 'o', 'm', 'o', ' ', 'e', 's', 't', 'a', 'a', 's']\n"
     ]
    }
   ],
   "source": [
    "#6.3 \n",
    "lista_pal = list(frase2)\n",
    "print(lista_pal)"
   ]
  },
  {
   "cell_type": "code",
   "execution_count": 101,
   "metadata": {},
   "outputs": [
    {
     "ename": "SyntaxError",
     "evalue": "invalid syntax (4026395627.py, line 6)",
     "output_type": "error",
     "traceback": [
      "\u001b[1;36m  File \u001b[1;32m\"C:\\Users\\usuario\\AppData\\Local\\Temp\\ipykernel_8484\\4026395627.py\"\u001b[1;36m, line \u001b[1;32m6\u001b[0m\n\u001b[1;33m    if i == \"y\"\u001b[0m\n\u001b[1;37m               ^\u001b[0m\n\u001b[1;31mSyntaxError\u001b[0m\u001b[1;31m:\u001b[0m invalid syntax\n"
     ]
    }
   ],
   "source": [
    "frase = \"HeyYy cOmo EstAas\"\n",
    "frase2 = frase.lower()\n",
    "\n",
    "\n",
    "for i in len(frase2):\n",
    "    if frase2[i == y]:\n",
    "        print()\n",
    "\n",
    "\n"
   ]
  },
  {
   "cell_type": "markdown",
   "metadata": {},
   "source": [
    "## Ejercicio Extra: Calculadora (Python Badge)"
   ]
  },
  {
   "cell_type": "markdown",
   "metadata": {},
   "source": [
    "Construye una calculadora que sea como la anterior pero:\n",
    "\n",
    "- Acepte tantos valores de entrada como queramos\n",
    "- Devuelva mensajes con las cuentas que se van haciendo.\n",
    "- Permita salir con una palabra clave (exit, quit, ...)"
   ]
  },
  {
   "cell_type": "code",
   "execution_count": 2,
   "metadata": {},
   "outputs": [
    {
     "name": "stdout",
     "output_type": "stream",
     "text": [
      "Ha activado la CALCULADORA\n",
      "Bienvenido Alberto\n",
      "Valor: 6.0\n",
      "Operación: /\n",
      "Valor: 7.0\n",
      "====================================================================================================\n",
      "SUBTOTAL: 0.8571428571428571\n",
      "Operación: +\n",
      "Valor: 9.0\n",
      "====================================================================================================\n",
      "SUBTOTAL: 9.857142857142858\n",
      "Operación: -\n",
      "Valor: 6.0\n",
      "====================================================================================================\n",
      "SUBTOTAL: 3.8571428571428577\n",
      "\n",
      "TOTAL: 3.8571428571428577\n",
      "\n",
      "\n",
      "\n",
      "CERRANDO CALCULADORA...\n",
      "Hasta pronto Alberto\n"
     ]
    }
   ],
   "source": []
  }
 ],
 "metadata": {
  "interpreter": {
   "hash": "bbecac44435c2c981f643c81cfe05fa1d6ef605eda7f5952ee2b272fedf4993e"
  },
  "kernelspec": {
   "display_name": "Python 3 (ipykernel)",
   "language": "python",
   "name": "python3"
  },
  "language_info": {
   "codemirror_mode": {
    "name": "ipython",
    "version": 3
   },
   "file_extension": ".py",
   "mimetype": "text/x-python",
   "name": "python",
   "nbconvert_exporter": "python",
   "pygments_lexer": "ipython3",
   "version": "3.7.4"
  }
 },
 "nbformat": 4,
 "nbformat_minor": 2
}
