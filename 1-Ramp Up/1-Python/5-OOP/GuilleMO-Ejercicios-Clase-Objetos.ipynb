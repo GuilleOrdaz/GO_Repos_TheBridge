{
 "cells": [
  {
   "cell_type": "markdown",
   "metadata": {},
   "source": [
    "![imagen](./img/ejercicios.png)\n",
    "\n",
    "# Ejercicios Clases y Objetos"
   ]
  },
  {
   "cell_type": "markdown",
   "metadata": {},
   "source": [
    "## Ejercicio 1\n",
    "Somos una empresa que tiene varias tiendas de electrodomesticos. Necesitamos un programa para manejar las tiendas, ver las ventas que han tenido, cuántos empleados hay, etc... Para ello vamos a modelizar la tienda en una clase, que tendrá las siguientes características:\n",
    "* Nombre clase: \"Tienda\"\n",
    "* Atributos comunes:\n",
    "    * Tipo: \"Electrodomésticos\"\n",
    "    * Abierta: True\n",
    "* Atributos propios de cada tienda:\n",
    "    * Nombre - String\n",
    "    * Dirección - String\n",
    "    * Número de empleados - int\n",
    "    * Ventas ultimos 3 meses - Lista de 3 numeros\n",
    "* Método para calcular las ventas de todos los meses, que devuelva un numero con todas las ventas.\n",
    "* Método que calcula la media de ventas de los ultimos meses, por empleado\n",
    "* Método que devuelve en un string el nombre de la tienda, junto con su dirección.\n",
    "* Método que obtiene las ventas del último mes.\n",
    "* Método para dar una proyección de las ventas en caso de haber invertido X dinero en marketing en esa tienda. Siendo X el parámetro de entrada. Si X es menor de 1000, las ventas de los ultimos 3 meses hubiesen sido de (1.2 x ventas), si es mayor o igual de 1000, las ventas hubiesen sido de (1.5 x venta). El método reescribe el atributo de ventas en los últimos 3 meses, y además devuelve las ventas con el aumento.\n",
    "\n",
    "Se pide:\n",
    "1. Implementar la clase \"Tienda\"\n",
    "2. Crear tres tiendas con datos inventados\n",
    "3. Comprueba en al menos una de ellas, todo lo implementado en la clase tienda (sus atributos, media de ventas, ventas/empleado...)\n",
    "3. Calcular las ventas del último mes de todas las tiendas. Para ello usa el bucle `for`\n",
    "4. Imprime por pantalla los nombres de las tiendas cuya dirección lleve el string \"Avenida\"\n",
    "5. Seguro que ya has hecho este apartado... Documenta la clase :)"
   ]
  },
  {
   "cell_type": "code",
   "execution_count": 9,
   "metadata": {},
   "outputs": [
    {
     "name": "stdout",
     "output_type": "stream",
     "text": [
      "\n",
      "Tienda1\n",
      "13500.0\n",
      "337.5\n",
      "('Tienda1', 'Direccion')\n",
      "6000.0\n",
      "[4500.0, 6750.0, 9000.0]\n",
      "[1200.0, 2400.0, 3600.0]\n",
      "[750.0, 1500.0, 2250.0]\n"
     ]
    }
   ],
   "source": [
    "from tkinter import E\n",
    "\n",
    "\n",
    "class Tienda:\n",
    "    '''Clase que modela un conjunto de tiendas'''\n",
    "    \n",
    "    tipo = \"Electrodomesticos\"\n",
    "    abierta = True\n",
    "\n",
    "    def __init__(self, nom_tienda, direcc_tienda, num_empleados, num_ventas):\n",
    "        '''Inputs de los atributos de la clase tienda'''\n",
    "        self.nombre = nom_tienda\n",
    "        self.direccion = direcc_tienda\n",
    "        self.empleados = num_empleados\n",
    "        self.ventas_3meses = num_ventas\n",
    "   \n",
    "\n",
    "    def ventas_totales(self):\n",
    "        return sum(self.ventas_3meses)\n",
    "\n",
    "    def media_empleados(self):\n",
    "        return sum(self.ventas_3meses) / self.empleados\n",
    "\n",
    "    def locate_tienda(self):\n",
    "        return self.nombre , self.direccion\n",
    "\n",
    "    def ultimo_mes(self):\n",
    "        return self.ventas_3meses[-1]\n",
    "    \n",
    "    def proyeccion_ventas(self, valor):\n",
    "        nueva_lista = []\n",
    "    \n",
    "        if valor < 1000:\n",
    "           for idx in (self.ventas_3meses):\n",
    "            nueva_lista.append(idx*1.2)\n",
    "\n",
    "        elif valor >= 1000:\n",
    "            for idx in (self.ventas_3meses):\n",
    "                nueva_lista.append(idx*1.5)\n",
    "        self.ventas_3meses = nueva_lista  \n",
    "        return nueva_lista\n",
    "\n",
    "    #proyeccion_ventas(900)\n",
    "\n",
    "tienda1 = Tienda(\"Tienda1\", \"Direccion\", 40, [2000,3000,4000])\n",
    "tienda2 = Tienda(\"Tienda2\", \"Lopez\", 50, [1000,2000,3000])\n",
    "tienda3 = Tienda(\"Tienda3\", \"Echegaray\", 60, [500,1000,1500])\n",
    "\n",
    "tienda1.ultimo_mes()\n",
    "tienda1.proyeccion_ventas(1200)\n",
    "\n",
    "print()\n",
    "print(tienda1.nombre)\n",
    "print(tienda1.ventas_totales())\n",
    "print(tienda1.media_empleados())\n",
    "print(tienda1.locate_tienda())\n",
    "print(tienda1.ultimo_mes())\n",
    "print(tienda1.proyeccion_ventas(1000))\n",
    "print(tienda2.proyeccion_ventas(950))\n",
    "print(tienda3.proyeccion_ventas(1650))\n",
    "\n",
    "\n",
    "\n",
    "\n"
   ]
  },
  {
   "cell_type": "markdown",
   "metadata": {},
   "source": [
    "## Ejercicio 2\n",
    "En este ejercicio vamos a implementar una clase *Perro* en Python. La clase tiene las siguientes características:\n",
    "* Cosas que sabemos seguro que tiene un perro\n",
    "    * Tiene 4 patas\n",
    "    * 2 orejas\n",
    "    * 2 ojos\n",
    "    * Una velocidad de 0. Por defecto, el perro está parado\n",
    "* Cuando se inicialice:\n",
    "    * El perro será de una determinada raza\n",
    "    * Por defecto tendrá pelo \"Marrón\", a no ser que se diga lo contrario.\n",
    "    * Por defecto no tendrá dueño, a no ser que se diga lo contrario.\n",
    "    \n",
    "* Dispondrá también de un método llamado andar, que tiene un argumento de entrada (aumento_velocidad). Este valor se le sumará a la velocidad que ya llevaba el perro.\n",
    "* Necesita otro método (parar), donde pondremos la velocidad a 0.\n",
    "* Otro método llamado \"ladrar\", que tendrá un argumento de entrada, y la salida será el siguiente string: \"GUAU!\" + el argumento de entrada.\n",
    "\n",
    "\n",
    "Se pide:\n",
    "* Implementa la clase *Perro*\n",
    "* Crea un objeto de tipo *Perro*, sin dueño\n",
    "* Comprueba que están bien todos sus atributos\n",
    "* Prueba que ande, y comprueba su velocidad\n",
    "* Páralo\n",
    "* Documenta la clase *Perro*"
   ]
  },
  {
   "cell_type": "code",
   "execution_count": 7,
   "metadata": {},
   "outputs": [],
   "source": [
    "class perro:\n",
    "    patas = 4\n",
    "    orejas = 2\n",
    "    ojos = 2\n",
    "    velocidad = 0\n",
    "        \n",
    "    def __init__(self, raza_perro, color = \"Marron\", dueño = False):\n",
    "        self.raza = raza_perro\n",
    "        self.color = color\n",
    "        self.dueño = False\n",
    "    \n",
    "    def andar(self, aumento_velocidad):\n",
    "        self.velocidad += aumento_velocidad\n",
    "    #No se devuelve la operacion de self con otra \n",
    "    def parar(self):\n",
    "        self.velocidad = 0\n",
    "    \n",
    "    def ladrar(self, ladrido):\n",
    "        return f\"GUAU!{ladrido}\"\n",
    "    \n",
    "   \n"
   ]
  },
  {
   "cell_type": "code",
   "execution_count": null,
   "metadata": {},
   "outputs": [],
   "source": [
    "bulldog = perro(\"Bulldog\", color = \"Maron\", dueño = True )"
   ]
  }
 ],
 "metadata": {
  "kernelspec": {
   "display_name": "Python 3.7.4 64-bit",
   "language": "python",
   "name": "python3"
  },
  "language_info": {
   "codemirror_mode": {
    "name": "ipython",
    "version": 3
   },
   "file_extension": ".py",
   "mimetype": "text/x-python",
   "name": "python",
   "nbconvert_exporter": "python",
   "pygments_lexer": "ipython3",
   "version": "3.7.4"
  },
  "vscode": {
   "interpreter": {
    "hash": "b213cd0c7dc86fb09f7378e09d09f37ed50992d496516f682658e1f7568be4e1"
   }
  }
 },
 "nbformat": 4,
 "nbformat_minor": 4
}
