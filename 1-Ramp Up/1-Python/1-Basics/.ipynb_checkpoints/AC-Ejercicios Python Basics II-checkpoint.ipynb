{
 "cells": [
  {
   "cell_type": "markdown",
   "metadata": {},
   "source": [
    "![imagen](./img/ejercicios.png)"
   ]
  },
  {
   "cell_type": "code",
   "execution_count": 1,
   "metadata": {},
   "outputs": [
    {
     "name": "stdout",
     "output_type": "stream",
     "text": [
      "Setup complete! You're ready to start with PB I.\n"
     ]
    }
   ],
   "source": [
    "from learntools.core import binder; binder.bind(globals())\n",
    "from learntools.thebridge.python_basics_ii import *\n",
    "print(\"Setup complete! You're ready to start with PB I.\")"
   ]
  },
  {
   "cell_type": "markdown",
   "metadata": {},
   "source": [
    "# Ejercicios Python Basics II"
   ]
  },
  {
   "cell_type": "markdown",
   "metadata": {},
   "source": [
    "## Ejercicio 1\n",
    "* Crea dos variables numericas: un `int` llamado `var1` y un `float` llamado `var2`\n",
    "* Comprueba sus tipos\n",
    "* Sumalas en otra nueva que llamaremos `var3`\n",
    "* ¿De qué tipo es la nueva variable?"
   ]
  },
  {
   "cell_type": "code",
   "execution_count": 6,
   "metadata": {},
   "outputs": [
    {
     "name": "stdout",
     "output_type": "stream",
     "text": [
      "<class 'int'>\n",
      "<class 'float'>\n",
      "25.5\n",
      "<class 'float'>\n"
     ]
    }
   ],
   "source": [
    "var1 = 23\n",
    "var2 = 2.5\n",
    "\n",
    "print(type(var1))\n",
    "print(type(var2))\n",
    "\n",
    "var3 = var1 + var2\n",
    "print(var3)\n",
    "print(type(var3))"
   ]
  },
  {
   "cell_type": "code",
   "execution_count": null,
   "metadata": {},
   "outputs": [],
   "source": [
    "q0.display_buttons()"
   ]
  },
  {
   "cell_type": "markdown",
   "metadata": {},
   "source": [
    "## Ejercicio 2\n",
    "Escribe un programa para pasar de grados a radianes. Hay que usar `input`. Recuerda que la conversión se realiza mediante\n",
    "\n",
    "radianes = grados*(pi/180)\n",
    "\n",
    "- Define la variable `degree` usando la función input\n",
    "- Define la variable `radian` usando la fórmula y `degree`\n",
    "- Muestra el resultado por pantalla\n",
    "- Haz el check con 180 grados"
   ]
  },
  {
   "cell_type": "code",
   "execution_count": 5,
   "metadata": {},
   "outputs": [
    {
     "name": "stdout",
     "output_type": "stream",
     "text": [
      "Indica los grados: 180\n",
      "3.141592653589793\n"
     ]
    }
   ],
   "source": [
    "degree = float(input(\"Indica los grados: \")) \n",
    "\n",
    "import math\n",
    "math.pi\n",
    "\n",
    "radian = degree * (math.pi/180)\n",
    "print(radian)"
   ]
  },
  {
   "cell_type": "code",
   "execution_count": 4,
   "metadata": {},
   "outputs": [
    {
     "data": {
      "application/vnd.jupyter.widget-view+json": {
       "model_id": "605f42b81b6f4389907bebff41be1b00",
       "version_major": 2,
       "version_minor": 0
      },
      "text/plain": [
       "Button(description='Check', style=ButtonStyle(button_color='#cc5533', font_style='italic', font_weight='bold')…"
      ]
     },
     "metadata": {},
     "output_type": "display_data"
    },
    {
     "data": {
      "application/vnd.jupyter.widget-view+json": {
       "model_id": "7a43b1f6a9b844bab2ee38f377f5cea9",
       "version_major": 2,
       "version_minor": 0
      },
      "text/plain": [
       "Output()"
      ]
     },
     "metadata": {},
     "output_type": "display_data"
    },
    {
     "data": {
      "application/vnd.jupyter.widget-view+json": {
       "model_id": "ca26173a4a904a19b1d37f37062b6495",
       "version_major": 2,
       "version_minor": 0
      },
      "text/plain": [
       "Button(description='Hint 1', style=ButtonStyle(button_color='#3366cc', font_style='italic', font_weight='bold'…"
      ]
     },
     "metadata": {},
     "output_type": "display_data"
    },
    {
     "data": {
      "application/vnd.jupyter.widget-view+json": {
       "model_id": "31fbc63ccd614a06bd374f3027ff2feb",
       "version_major": 2,
       "version_minor": 0
      },
      "text/plain": [
       "Output()"
      ]
     },
     "metadata": {},
     "output_type": "display_data"
    },
    {
     "data": {
      "application/vnd.jupyter.widget-view+json": {
       "model_id": "24a5d9dba13a4663bd44d1153a9fbdc6",
       "version_major": 2,
       "version_minor": 0
      },
      "text/plain": [
       "Button(description='Hint 2', style=ButtonStyle(button_color='#3366cc', font_style='italic', font_weight='bold'…"
      ]
     },
     "metadata": {},
     "output_type": "display_data"
    },
    {
     "data": {
      "application/vnd.jupyter.widget-view+json": {
       "model_id": "eafd02df70d1465381a5acd4ba80dec0",
       "version_major": 2,
       "version_minor": 0
      },
      "text/plain": [
       "Output()"
      ]
     },
     "metadata": {},
     "output_type": "display_data"
    },
    {
     "data": {
      "application/vnd.jupyter.widget-view+json": {
       "model_id": "7a1db56f455b44298cf1b1fe0d3c4785",
       "version_major": 2,
       "version_minor": 0
      },
      "text/plain": [
       "Button(description='Hint 3', style=ButtonStyle(button_color='#3366cc', font_style='italic', font_weight='bold'…"
      ]
     },
     "metadata": {},
     "output_type": "display_data"
    },
    {
     "data": {
      "application/vnd.jupyter.widget-view+json": {
       "model_id": "f95a6d4c9cc44bc5979235b61403938a",
       "version_major": 2,
       "version_minor": 0
      },
      "text/plain": [
       "Output()"
      ]
     },
     "metadata": {},
     "output_type": "display_data"
    },
    {
     "data": {
      "application/vnd.jupyter.widget-view+json": {
       "model_id": "316ec381f2894b4c855a777b204c91c6",
       "version_major": 2,
       "version_minor": 0
      },
      "text/plain": [
       "Button(description='Hint 4', style=ButtonStyle(button_color='#3366cc', font_style='italic', font_weight='bold'…"
      ]
     },
     "metadata": {},
     "output_type": "display_data"
    },
    {
     "data": {
      "application/vnd.jupyter.widget-view+json": {
       "model_id": "e5e58724f0c4490bbf4bf6abfa12c95d",
       "version_major": 2,
       "version_minor": 0
      },
      "text/plain": [
       "Output()"
      ]
     },
     "metadata": {},
     "output_type": "display_data"
    },
    {
     "data": {
      "application/vnd.jupyter.widget-view+json": {
       "model_id": "130637e25a7c4f5d9bd7b8eec75fd1c4",
       "version_major": 2,
       "version_minor": 0
      },
      "text/plain": [
       "Button(description='Solution', style=ButtonStyle(button_color='#33cc99', font_style='italic', font_weight='bol…"
      ]
     },
     "metadata": {},
     "output_type": "display_data"
    },
    {
     "data": {
      "application/vnd.jupyter.widget-view+json": {
       "model_id": "12a8744534724e9dacf37df5e49051d8",
       "version_major": 2,
       "version_minor": 0
      },
      "text/plain": [
       "Output()"
      ]
     },
     "metadata": {},
     "output_type": "display_data"
    }
   ],
   "source": [
    "q1.display_buttons()"
   ]
  },
  {
   "cell_type": "markdown",
   "metadata": {},
   "source": [
    "## Ejercicio 3\n",
    "Escribe un programa que calcule el area de un paralelogramo (base x altura). También con `input`\n",
    "\n",
    "**Nota**: Llama a las variables `base`, `height` y `area` y haz check con base 10 y altura 15"
   ]
  },
  {
   "cell_type": "code",
   "execution_count": 4,
   "metadata": {},
   "outputs": [
    {
     "name": "stdout",
     "output_type": "stream",
     "text": [
      "medida de la base10\n",
      "medida de la altura15\n",
      "El area es  150.0\n"
     ]
    }
   ],
   "source": [
    "base = float(input(\"medida de la base\"))\n",
    "height = float(input(\"medida de la altura\"))\n",
    "\n",
    "area = base * height\n",
    "print(\"El area es \", area)"
   ]
  },
  {
   "cell_type": "code",
   "execution_count": 3,
   "metadata": {},
   "outputs": [
    {
     "data": {
      "application/vnd.jupyter.widget-view+json": {
       "model_id": "fa56ebe3f1e04542bb152e746f6c05ef",
       "version_major": 2,
       "version_minor": 0
      },
      "text/plain": [
       "Button(description='Check', style=ButtonStyle(button_color='#cc5533', font_style='italic', font_weight='bold')…"
      ]
     },
     "metadata": {},
     "output_type": "display_data"
    },
    {
     "data": {
      "application/vnd.jupyter.widget-view+json": {
       "model_id": "6d18364c342641ed96a2f1a983f925c7",
       "version_major": 2,
       "version_minor": 0
      },
      "text/plain": [
       "Output()"
      ]
     },
     "metadata": {},
     "output_type": "display_data"
    },
    {
     "data": {
      "application/vnd.jupyter.widget-view+json": {
       "model_id": "72327ad3771040cc8cf020a337645971",
       "version_major": 2,
       "version_minor": 0
      },
      "text/plain": [
       "Button(description='Hint 1', style=ButtonStyle(button_color='#3366cc', font_style='italic', font_weight='bold'…"
      ]
     },
     "metadata": {},
     "output_type": "display_data"
    },
    {
     "data": {
      "application/vnd.jupyter.widget-view+json": {
       "model_id": "17961909831c4f35b1ad0ac09eff36e1",
       "version_major": 2,
       "version_minor": 0
      },
      "text/plain": [
       "Output()"
      ]
     },
     "metadata": {},
     "output_type": "display_data"
    },
    {
     "data": {
      "application/vnd.jupyter.widget-view+json": {
       "model_id": "5ec695a36cf343da886544916d39221b",
       "version_major": 2,
       "version_minor": 0
      },
      "text/plain": [
       "Button(description='Hint 2', style=ButtonStyle(button_color='#3366cc', font_style='italic', font_weight='bold'…"
      ]
     },
     "metadata": {},
     "output_type": "display_data"
    },
    {
     "data": {
      "application/vnd.jupyter.widget-view+json": {
       "model_id": "f8784a1ed0ed424c89ac1d7ab30364cc",
       "version_major": 2,
       "version_minor": 0
      },
      "text/plain": [
       "Output()"
      ]
     },
     "metadata": {},
     "output_type": "display_data"
    },
    {
     "data": {
      "application/vnd.jupyter.widget-view+json": {
       "model_id": "bbedaa4a66804332bbebab4a2f51453f",
       "version_major": 2,
       "version_minor": 0
      },
      "text/plain": [
       "Button(description='Hint 3', style=ButtonStyle(button_color='#3366cc', font_style='italic', font_weight='bold'…"
      ]
     },
     "metadata": {},
     "output_type": "display_data"
    },
    {
     "data": {
      "application/vnd.jupyter.widget-view+json": {
       "model_id": "097783511a3e47eb95626cc560225285",
       "version_major": 2,
       "version_minor": 0
      },
      "text/plain": [
       "Output()"
      ]
     },
     "metadata": {},
     "output_type": "display_data"
    },
    {
     "data": {
      "application/vnd.jupyter.widget-view+json": {
       "model_id": "aed3b2c0823d408daf99821fc9284c37",
       "version_major": 2,
       "version_minor": 0
      },
      "text/plain": [
       "Button(description='Hint 4', style=ButtonStyle(button_color='#3366cc', font_style='italic', font_weight='bold'…"
      ]
     },
     "metadata": {},
     "output_type": "display_data"
    },
    {
     "data": {
      "application/vnd.jupyter.widget-view+json": {
       "model_id": "d04ed0c053dc47f9abb509d2e3a4a7c5",
       "version_major": 2,
       "version_minor": 0
      },
      "text/plain": [
       "Output()"
      ]
     },
     "metadata": {},
     "output_type": "display_data"
    },
    {
     "data": {
      "application/vnd.jupyter.widget-view+json": {
       "model_id": "296a5a2f60fa469ea140b8c8d52b1684",
       "version_major": 2,
       "version_minor": 0
      },
      "text/plain": [
       "Button(description='Solution', style=ButtonStyle(button_color='#33cc99', font_style='italic', font_weight='bol…"
      ]
     },
     "metadata": {},
     "output_type": "display_data"
    },
    {
     "data": {
      "application/vnd.jupyter.widget-view+json": {
       "model_id": "d2f24bbeaccb4a3d92db061d95af1409",
       "version_major": 2,
       "version_minor": 0
      },
      "text/plain": [
       "Output()"
      ]
     },
     "metadata": {},
     "output_type": "display_data"
    }
   ],
   "source": [
    "q2.display_buttons()"
   ]
  },
  {
   "cell_type": "markdown",
   "metadata": {},
   "source": [
    "## Ejercicio 4\n",
    "Tenemos las siguientes variables:\n",
    "\n",
    "```Python\n",
    "A = 4\n",
    "B = \"Text\"\n",
    "C = 4.1\n",
    "```\n",
    "\n",
    "Comprueba:\n",
    "1. Si A y B son equivalentes\n",
    "2. Si A y C NO son equivalentes\n",
    "3. Si A es mayor que C \n",
    "4. Si C es menor o igual que A\n",
    "5. Si B NO es equivalente a C"
   ]
  },
  {
   "cell_type": "code",
   "execution_count": 16,
   "metadata": {},
   "outputs": [
    {
     "name": "stdout",
     "output_type": "stream",
     "text": [
      "True\n",
      "False\n",
      "False\n",
      "True\n"
     ]
    }
   ],
   "source": [
    "A = 4\n",
    "B = \"Text\"\n",
    "C = 4.1\n",
    "\n",
    "print(A != C)\n",
    "print(A > C)\n",
    "print(C <= A)\n",
    "print(B != C)"
   ]
  },
  {
   "cell_type": "code",
   "execution_count": 6,
   "metadata": {},
   "outputs": [
    {
     "data": {
      "application/vnd.jupyter.widget-view+json": {
       "model_id": "a0fb23ca1f234e28a760e60bc687ac5c",
       "version_major": 2,
       "version_minor": 0
      },
      "text/plain": [
       "Button(description='Hint 1', style=ButtonStyle(button_color='#3366cc', font_style='italic', font_weight='bold'…"
      ]
     },
     "metadata": {},
     "output_type": "display_data"
    },
    {
     "data": {
      "application/vnd.jupyter.widget-view+json": {
       "model_id": "f2f3f7436a604a7d94ef3ea092db4a33",
       "version_major": 2,
       "version_minor": 0
      },
      "text/plain": [
       "Output()"
      ]
     },
     "metadata": {},
     "output_type": "display_data"
    },
    {
     "data": {
      "application/vnd.jupyter.widget-view+json": {
       "model_id": "485db67ffcc94914b25340abd84ce854",
       "version_major": 2,
       "version_minor": 0
      },
      "text/plain": [
       "Button(description='Hint 2', style=ButtonStyle(button_color='#3366cc', font_style='italic', font_weight='bold'…"
      ]
     },
     "metadata": {},
     "output_type": "display_data"
    },
    {
     "data": {
      "application/vnd.jupyter.widget-view+json": {
       "model_id": "7e8ac9dcfc35405c86c3e7d693d4c0c1",
       "version_major": 2,
       "version_minor": 0
      },
      "text/plain": [
       "Output()"
      ]
     },
     "metadata": {},
     "output_type": "display_data"
    },
    {
     "data": {
      "application/vnd.jupyter.widget-view+json": {
       "model_id": "c2ed14e8c4ae486d9a9369590f103b80",
       "version_major": 2,
       "version_minor": 0
      },
      "text/plain": [
       "Button(description='Hint 3', style=ButtonStyle(button_color='#3366cc', font_style='italic', font_weight='bold'…"
      ]
     },
     "metadata": {},
     "output_type": "display_data"
    },
    {
     "data": {
      "application/vnd.jupyter.widget-view+json": {
       "model_id": "14b30fd07ab2417e8eb845c563c210dc",
       "version_major": 2,
       "version_minor": 0
      },
      "text/plain": [
       "Output()"
      ]
     },
     "metadata": {},
     "output_type": "display_data"
    },
    {
     "data": {
      "application/vnd.jupyter.widget-view+json": {
       "model_id": "f7451980cf724563bd05875f0cd39323",
       "version_major": 2,
       "version_minor": 0
      },
      "text/plain": [
       "Button(description='Solution', style=ButtonStyle(button_color='#33cc99', font_style='italic', font_weight='bol…"
      ]
     },
     "metadata": {},
     "output_type": "display_data"
    },
    {
     "data": {
      "application/vnd.jupyter.widget-view+json": {
       "model_id": "88523a5f1b024bdfb3aceb85a3d6e526",
       "version_major": 2,
       "version_minor": 0
      },
      "text/plain": [
       "Output()"
      ]
     },
     "metadata": {},
     "output_type": "display_data"
    }
   ],
   "source": [
    "q3.display_buttons()"
   ]
  },
  {
   "cell_type": "markdown",
   "metadata": {},
   "source": [
    "## Ejercicio 5\n",
    "Crea un programa donde se recojan dos inputs del usuario, y el output del programa sea si esos inputs son iguales o no.\n",
    "\n",
    "Llama a las variables `in_1`, `in_2`"
   ]
  },
  {
   "cell_type": "code",
   "execution_count": 2,
   "metadata": {},
   "outputs": [
    {
     "name": "stdout",
     "output_type": "stream",
     "text": [
      "Variable a2\n",
      "Variable b1\n",
      "False\n"
     ]
    }
   ],
   "source": [
    "in_1 = input(\"Variable a\")\n",
    "in_2 = input(\"Variable b\")\n",
    "\n",
    "output = in_1 == in_2\n",
    "print(output)\n"
   ]
  },
  {
   "cell_type": "code",
   "execution_count": 3,
   "metadata": {},
   "outputs": [
    {
     "data": {
      "application/vnd.jupyter.widget-view+json": {
       "model_id": "76c47db209554bd9b92202a784175fba",
       "version_major": 2,
       "version_minor": 0
      },
      "text/plain": [
       "Button(description='Hint 1', style=ButtonStyle(button_color='#3366cc', font_style='italic', font_weight='bold'…"
      ]
     },
     "metadata": {},
     "output_type": "display_data"
    },
    {
     "data": {
      "application/vnd.jupyter.widget-view+json": {
       "model_id": "4ba2261a032d4a389b856dcb2fd11976",
       "version_major": 2,
       "version_minor": 0
      },
      "text/plain": [
       "Output()"
      ]
     },
     "metadata": {},
     "output_type": "display_data"
    },
    {
     "data": {
      "application/vnd.jupyter.widget-view+json": {
       "model_id": "8be680b4e61d4c2f9e6fe265b5bcc4ed",
       "version_major": 2,
       "version_minor": 0
      },
      "text/plain": [
       "Button(description='Hint 2', style=ButtonStyle(button_color='#3366cc', font_style='italic', font_weight='bold'…"
      ]
     },
     "metadata": {},
     "output_type": "display_data"
    },
    {
     "data": {
      "application/vnd.jupyter.widget-view+json": {
       "model_id": "e4473613364a4e18b5a2692b588bed1a",
       "version_major": 2,
       "version_minor": 0
      },
      "text/plain": [
       "Output()"
      ]
     },
     "metadata": {},
     "output_type": "display_data"
    },
    {
     "data": {
      "application/vnd.jupyter.widget-view+json": {
       "model_id": "ad56c01cec054de9a3b5310c4c396d2d",
       "version_major": 2,
       "version_minor": 0
      },
      "text/plain": [
       "Button(description='Hint 3', style=ButtonStyle(button_color='#3366cc', font_style='italic', font_weight='bold'…"
      ]
     },
     "metadata": {},
     "output_type": "display_data"
    },
    {
     "data": {
      "application/vnd.jupyter.widget-view+json": {
       "model_id": "ebceca39e5fb4310a5a96df0669bbe3d",
       "version_major": 2,
       "version_minor": 0
      },
      "text/plain": [
       "Output()"
      ]
     },
     "metadata": {},
     "output_type": "display_data"
    },
    {
     "data": {
      "application/vnd.jupyter.widget-view+json": {
       "model_id": "f4fda0f71f07420b8514f76123d5644d",
       "version_major": 2,
       "version_minor": 0
      },
      "text/plain": [
       "Button(description='Hint 4', style=ButtonStyle(button_color='#3366cc', font_style='italic', font_weight='bold'…"
      ]
     },
     "metadata": {},
     "output_type": "display_data"
    },
    {
     "data": {
      "application/vnd.jupyter.widget-view+json": {
       "model_id": "e5533cd6a512442798ef7eae95be0423",
       "version_major": 2,
       "version_minor": 0
      },
      "text/plain": [
       "Output()"
      ]
     },
     "metadata": {},
     "output_type": "display_data"
    },
    {
     "data": {
      "application/vnd.jupyter.widget-view+json": {
       "model_id": "87ce7be771c548e8931aabd2a20a7a1f",
       "version_major": 2,
       "version_minor": 0
      },
      "text/plain": [
       "Button(description='Hint 5', style=ButtonStyle(button_color='#3366cc', font_style='italic', font_weight='bold'…"
      ]
     },
     "metadata": {},
     "output_type": "display_data"
    },
    {
     "data": {
      "application/vnd.jupyter.widget-view+json": {
       "model_id": "bab0a7a34fbc4775818c7fa2a8aa5ada",
       "version_major": 2,
       "version_minor": 0
      },
      "text/plain": [
       "Output()"
      ]
     },
     "metadata": {},
     "output_type": "display_data"
    },
    {
     "data": {
      "application/vnd.jupyter.widget-view+json": {
       "model_id": "021cef7f5f314430b9996227fa8cffc6",
       "version_major": 2,
       "version_minor": 0
      },
      "text/plain": [
       "Button(description='Solution', style=ButtonStyle(button_color='#33cc99', font_style='italic', font_weight='bol…"
      ]
     },
     "metadata": {},
     "output_type": "display_data"
    },
    {
     "data": {
      "application/vnd.jupyter.widget-view+json": {
       "model_id": "b4789d49d6bf4866845523f6918e42fd",
       "version_major": 2,
       "version_minor": 0
      },
      "text/plain": [
       "Output()"
      ]
     },
     "metadata": {},
     "output_type": "display_data"
    }
   ],
   "source": [
    "q4.a.display_buttons()"
   ]
  },
  {
   "cell_type": "markdown",
   "metadata": {},
   "source": [
    "## Ejercicio 6\n",
    "Mismo programa que en 5, pero en esta ocasión tienen que ser tres inputs y dos salidas. Una de las salidas que nos indique si todos son iguales, y la otra si al menos dos inputs sí que lo son.\n",
    "\n",
    "Llama a las variables `inp_1`, `inp_2`, `inp_3` para los inputs y `todos` y `dos` para los resultados.\n",
    "\n",
    "**Nota**: Haz el check con los inputs a, a, b"
   ]
  },
  {
   "cell_type": "code",
   "execution_count": 5,
   "metadata": {},
   "outputs": [
    {
     "name": "stdout",
     "output_type": "stream",
     "text": [
      "Variable a: a\n",
      "Variable b: a\n",
      "Variable c: b\n",
      "False\n"
     ]
    }
   ],
   "source": [
    "inp_1 = input(\"Variable a: \")\n",
    "inp_2 = input(\"Variable b: \")\n",
    "inp_3 = input(\"Variable c: \")\n",
    "\n",
    "todos = inp_1 == inp_2 == inp_3\n",
    "dos = (inp_1 == inp_2) or (inp_1 == inp_3) or (inp_2 == inp_3)\n",
    "print(todos)"
   ]
  },
  {
   "cell_type": "code",
   "execution_count": 6,
   "metadata": {},
   "outputs": [
    {
     "name": "stdout",
     "output_type": "stream",
     "text": [
      "True\n"
     ]
    }
   ],
   "source": [
    "print(dos)"
   ]
  },
  {
   "cell_type": "code",
   "execution_count": 7,
   "metadata": {},
   "outputs": [
    {
     "data": {
      "application/vnd.jupyter.widget-view+json": {
       "model_id": "959bd41e62ec4df7b6ea6b578f9a4bd7",
       "version_major": 2,
       "version_minor": 0
      },
      "text/plain": [
       "Button(description='Check', style=ButtonStyle(button_color='#cc5533', font_style='italic', font_weight='bold')…"
      ]
     },
     "metadata": {},
     "output_type": "display_data"
    },
    {
     "data": {
      "application/vnd.jupyter.widget-view+json": {
       "model_id": "dd5a909a14b04bc5a38fb3e1dbe04a53",
       "version_major": 2,
       "version_minor": 0
      },
      "text/plain": [
       "Output()"
      ]
     },
     "metadata": {},
     "output_type": "display_data"
    },
    {
     "data": {
      "application/vnd.jupyter.widget-view+json": {
       "model_id": "8df74513dab34fe0994557762201145e",
       "version_major": 2,
       "version_minor": 0
      },
      "text/plain": [
       "Button(description='Hint 1', style=ButtonStyle(button_color='#3366cc', font_style='italic', font_weight='bold'…"
      ]
     },
     "metadata": {},
     "output_type": "display_data"
    },
    {
     "data": {
      "application/vnd.jupyter.widget-view+json": {
       "model_id": "1cfd84d24af04fdf8da967c2220e4441",
       "version_major": 2,
       "version_minor": 0
      },
      "text/plain": [
       "Output()"
      ]
     },
     "metadata": {},
     "output_type": "display_data"
    },
    {
     "data": {
      "application/vnd.jupyter.widget-view+json": {
       "model_id": "ddb38dc7d5234f5b9ebcc956ede3c96e",
       "version_major": 2,
       "version_minor": 0
      },
      "text/plain": [
       "Button(description='Hint 2', style=ButtonStyle(button_color='#3366cc', font_style='italic', font_weight='bold'…"
      ]
     },
     "metadata": {},
     "output_type": "display_data"
    },
    {
     "data": {
      "application/vnd.jupyter.widget-view+json": {
       "model_id": "3ab4c71816d74ccb8b87f1d83eed326a",
       "version_major": 2,
       "version_minor": 0
      },
      "text/plain": [
       "Output()"
      ]
     },
     "metadata": {},
     "output_type": "display_data"
    },
    {
     "data": {
      "application/vnd.jupyter.widget-view+json": {
       "model_id": "59f5f6a1fb3e44c58d5cc209c1084324",
       "version_major": 2,
       "version_minor": 0
      },
      "text/plain": [
       "Button(description='Hint 3', style=ButtonStyle(button_color='#3366cc', font_style='italic', font_weight='bold'…"
      ]
     },
     "metadata": {},
     "output_type": "display_data"
    },
    {
     "data": {
      "application/vnd.jupyter.widget-view+json": {
       "model_id": "bc6651b9880f462b83e77d05946523c8",
       "version_major": 2,
       "version_minor": 0
      },
      "text/plain": [
       "Output()"
      ]
     },
     "metadata": {},
     "output_type": "display_data"
    },
    {
     "data": {
      "application/vnd.jupyter.widget-view+json": {
       "model_id": "021559e2d3134fd0b3c99b7542a8ea19",
       "version_major": 2,
       "version_minor": 0
      },
      "text/plain": [
       "Button(description='Hint 4', style=ButtonStyle(button_color='#3366cc', font_style='italic', font_weight='bold'…"
      ]
     },
     "metadata": {},
     "output_type": "display_data"
    },
    {
     "data": {
      "application/vnd.jupyter.widget-view+json": {
       "model_id": "91d1b8a04dec4eb189d41dd2d1bc3091",
       "version_major": 2,
       "version_minor": 0
      },
      "text/plain": [
       "Output()"
      ]
     },
     "metadata": {},
     "output_type": "display_data"
    },
    {
     "data": {
      "application/vnd.jupyter.widget-view+json": {
       "model_id": "c861237fb3f54e41942d0af16b5b734c",
       "version_major": 2,
       "version_minor": 0
      },
      "text/plain": [
       "Button(description='Hint 5', style=ButtonStyle(button_color='#3366cc', font_style='italic', font_weight='bold'…"
      ]
     },
     "metadata": {},
     "output_type": "display_data"
    },
    {
     "data": {
      "application/vnd.jupyter.widget-view+json": {
       "model_id": "52502091809e4deda17a1ff6a7566ff9",
       "version_major": 2,
       "version_minor": 0
      },
      "text/plain": [
       "Output()"
      ]
     },
     "metadata": {},
     "output_type": "display_data"
    },
    {
     "data": {
      "application/vnd.jupyter.widget-view+json": {
       "model_id": "cc2c6a9718624011bd8d41a14d870393",
       "version_major": 2,
       "version_minor": 0
      },
      "text/plain": [
       "Button(description='Solution', style=ButtonStyle(button_color='#33cc99', font_style='italic', font_weight='bol…"
      ]
     },
     "metadata": {},
     "output_type": "display_data"
    },
    {
     "data": {
      "application/vnd.jupyter.widget-view+json": {
       "model_id": "063e9698a0684a739e1297802c416e61",
       "version_major": 2,
       "version_minor": 0
      },
      "text/plain": [
       "Output()"
      ]
     },
     "metadata": {},
     "output_type": "display_data"
    }
   ],
   "source": [
    "q4.b.display_buttons()"
   ]
  },
  {
   "cell_type": "markdown",
   "metadata": {},
   "source": [
    "## Ejercicio 7\n",
    "Crea un programa que recoja dos inputs. Tiene que comprobar si su suma es igual, superior o inferior a 10\n",
    "\n",
    "Llama a las variables `in1`, `in2`, `suma`."
   ]
  },
  {
   "cell_type": "code",
   "execution_count": 9,
   "metadata": {},
   "outputs": [
    {
     "name": "stdout",
     "output_type": "stream",
     "text": [
      "Primer numero: 5\n",
      "Segundo numero: 2\n",
      "True\n"
     ]
    }
   ],
   "source": [
    "in1 = float(input(\"Primer numero: \"))\n",
    "in2 = float(input(\"Segundo numero: \"))\n",
    "\n",
    "suma = (in1 + in2 == 10) or (in1 + in2 > 10) or (in1 + in2 < 10)\n",
    "print(suma)"
   ]
  },
  {
   "cell_type": "code",
   "execution_count": null,
   "metadata": {},
   "outputs": [],
   "source": [
    "#corrección tendria que comprobar las condiciones uuna a una, porque si pongo or con que una se cumpla ya \n",
    "#cogeria todas por True, pero realmente no es así. por ejemplo 7 no es igual que 10 y tampoco mayor que 10. "
   ]
  },
  {
   "cell_type": "code",
   "execution_count": null,
   "metadata": {},
   "outputs": [],
   "source": []
  },
  {
   "cell_type": "code",
   "execution_count": 10,
   "metadata": {},
   "outputs": [
    {
     "data": {
      "application/vnd.jupyter.widget-view+json": {
       "model_id": "f9c3a265e6ef48ce99dbfb607aef656c",
       "version_major": 2,
       "version_minor": 0
      },
      "text/plain": [
       "Button(description='Hint 1', style=ButtonStyle(button_color='#3366cc', font_style='italic', font_weight='bold'…"
      ]
     },
     "metadata": {},
     "output_type": "display_data"
    },
    {
     "data": {
      "application/vnd.jupyter.widget-view+json": {
       "model_id": "f482b2834615469e9a51f8e4346d72f7",
       "version_major": 2,
       "version_minor": 0
      },
      "text/plain": [
       "Output()"
      ]
     },
     "metadata": {},
     "output_type": "display_data"
    },
    {
     "data": {
      "application/vnd.jupyter.widget-view+json": {
       "model_id": "7f63b651b3cc4a23ad68cf41f5f4f609",
       "version_major": 2,
       "version_minor": 0
      },
      "text/plain": [
       "Button(description='Hint 2', style=ButtonStyle(button_color='#3366cc', font_style='italic', font_weight='bold'…"
      ]
     },
     "metadata": {},
     "output_type": "display_data"
    },
    {
     "data": {
      "application/vnd.jupyter.widget-view+json": {
       "model_id": "30c4bb94cecd4099af7d461e416b233b",
       "version_major": 2,
       "version_minor": 0
      },
      "text/plain": [
       "Output()"
      ]
     },
     "metadata": {},
     "output_type": "display_data"
    },
    {
     "data": {
      "application/vnd.jupyter.widget-view+json": {
       "model_id": "0f60bb0c9aa349a39b70f0a9cb56ccb8",
       "version_major": 2,
       "version_minor": 0
      },
      "text/plain": [
       "Button(description='Hint 3', style=ButtonStyle(button_color='#3366cc', font_style='italic', font_weight='bold'…"
      ]
     },
     "metadata": {},
     "output_type": "display_data"
    },
    {
     "data": {
      "application/vnd.jupyter.widget-view+json": {
       "model_id": "dad53da9ef4749f895d202ff7d3f72ca",
       "version_major": 2,
       "version_minor": 0
      },
      "text/plain": [
       "Output()"
      ]
     },
     "metadata": {},
     "output_type": "display_data"
    },
    {
     "data": {
      "application/vnd.jupyter.widget-view+json": {
       "model_id": "cc28b1f05b3044549966aac99e5ec907",
       "version_major": 2,
       "version_minor": 0
      },
      "text/plain": [
       "Button(description='Hint 4', style=ButtonStyle(button_color='#3366cc', font_style='italic', font_weight='bold'…"
      ]
     },
     "metadata": {},
     "output_type": "display_data"
    },
    {
     "data": {
      "application/vnd.jupyter.widget-view+json": {
       "model_id": "ff3037c65c244138ae2a76090f666ee5",
       "version_major": 2,
       "version_minor": 0
      },
      "text/plain": [
       "Output()"
      ]
     },
     "metadata": {},
     "output_type": "display_data"
    },
    {
     "data": {
      "application/vnd.jupyter.widget-view+json": {
       "model_id": "303e0334a9df47ed9c70ab4ebcf01771",
       "version_major": 2,
       "version_minor": 0
      },
      "text/plain": [
       "Button(description='Hint 5', style=ButtonStyle(button_color='#3366cc', font_style='italic', font_weight='bold'…"
      ]
     },
     "metadata": {},
     "output_type": "display_data"
    },
    {
     "data": {
      "application/vnd.jupyter.widget-view+json": {
       "model_id": "d2b398339c3e4d89b8fbfa28adec47bd",
       "version_major": 2,
       "version_minor": 0
      },
      "text/plain": [
       "Output()"
      ]
     },
     "metadata": {},
     "output_type": "display_data"
    },
    {
     "data": {
      "application/vnd.jupyter.widget-view+json": {
       "model_id": "760818e5fc444b05be7a004e3d1c08d6",
       "version_major": 2,
       "version_minor": 0
      },
      "text/plain": [
       "Button(description='Solution', style=ButtonStyle(button_color='#33cc99', font_style='italic', font_weight='bol…"
      ]
     },
     "metadata": {},
     "output_type": "display_data"
    },
    {
     "data": {
      "application/vnd.jupyter.widget-view+json": {
       "model_id": "383479487cca40c188970ad7cc787965",
       "version_major": 2,
       "version_minor": 0
      },
      "text/plain": [
       "Output()"
      ]
     },
     "metadata": {},
     "output_type": "display_data"
    }
   ],
   "source": [
    "q4.c.display_buttons()"
   ]
  },
  {
   "cell_type": "markdown",
   "metadata": {},
   "source": [
    "## Ejercicio 8\n",
    "Razona sin ejecutar código el output que obtendremos de las siguientes sentencias\n",
    "1. True and True and False\n",
    "2. not ((True or False) and (True or False))\n",
    "3. (False or False or False or True) and False\n",
    "4. not False and True and not True\n",
    "\n",
    "**IMPORTANTE**: Las soluciones se darán en las pistas 3 - 6 para que se puedan desplegar una por una"
   ]
  },
  {
   "cell_type": "code",
   "execution_count": null,
   "metadata": {},
   "outputs": [],
   "source": [
    "#1 False. Con que exista 1 false en la condición de \"AND\" el resultado es false.\n",
    "#2 False. Resolviendo los parentesis seria: True and True, por tanto True. Entonces not true es False.\n",
    "#3 False. El primer parentesis es True, por tanto, True and False es False.\n",
    "#4 False. Not False es True y not True es False. Por tanto, True and True and False es False. "
   ]
  },
  {
   "cell_type": "markdown",
   "metadata": {},
   "source": []
  },
  {
   "cell_type": "code",
   "execution_count": 12,
   "metadata": {},
   "outputs": [
    {
     "data": {
      "application/vnd.jupyter.widget-view+json": {
       "model_id": "b7cd9389edac498ba91d0f24c92a7a7e",
       "version_major": 2,
       "version_minor": 0
      },
      "text/plain": [
       "Button(description='Hint 1', style=ButtonStyle(button_color='#3366cc', font_style='italic', font_weight='bold'…"
      ]
     },
     "metadata": {},
     "output_type": "display_data"
    },
    {
     "data": {
      "application/vnd.jupyter.widget-view+json": {
       "model_id": "64ac76c2f7d04f2086423ca7f821ba16",
       "version_major": 2,
       "version_minor": 0
      },
      "text/plain": [
       "Output()"
      ]
     },
     "metadata": {},
     "output_type": "display_data"
    },
    {
     "data": {
      "application/vnd.jupyter.widget-view+json": {
       "model_id": "582462d6696548a78759122921f4e0fe",
       "version_major": 2,
       "version_minor": 0
      },
      "text/plain": [
       "Button(description='Hint 2', style=ButtonStyle(button_color='#3366cc', font_style='italic', font_weight='bold'…"
      ]
     },
     "metadata": {},
     "output_type": "display_data"
    },
    {
     "data": {
      "application/vnd.jupyter.widget-view+json": {
       "model_id": "a46533d4f01e436d927c881e6e59988b",
       "version_major": 2,
       "version_minor": 0
      },
      "text/plain": [
       "Output()"
      ]
     },
     "metadata": {},
     "output_type": "display_data"
    },
    {
     "data": {
      "application/vnd.jupyter.widget-view+json": {
       "model_id": "6679b0f8460e49b2a29a358527e393a8",
       "version_major": 2,
       "version_minor": 0
      },
      "text/plain": [
       "Button(description='Hint 3', style=ButtonStyle(button_color='#3366cc', font_style='italic', font_weight='bold'…"
      ]
     },
     "metadata": {},
     "output_type": "display_data"
    },
    {
     "data": {
      "application/vnd.jupyter.widget-view+json": {
       "model_id": "febdd5ae9f2948d4bd6320c3c96eb154",
       "version_major": 2,
       "version_minor": 0
      },
      "text/plain": [
       "Output()"
      ]
     },
     "metadata": {},
     "output_type": "display_data"
    },
    {
     "data": {
      "application/vnd.jupyter.widget-view+json": {
       "model_id": "30f9fb26f8be469ab34548389d52fef4",
       "version_major": 2,
       "version_minor": 0
      },
      "text/plain": [
       "Button(description='Hint 4', style=ButtonStyle(button_color='#3366cc', font_style='italic', font_weight='bold'…"
      ]
     },
     "metadata": {},
     "output_type": "display_data"
    },
    {
     "data": {
      "application/vnd.jupyter.widget-view+json": {
       "model_id": "9fcda7bc4328485cbb2053872d3e0041",
       "version_major": 2,
       "version_minor": 0
      },
      "text/plain": [
       "Output()"
      ]
     },
     "metadata": {},
     "output_type": "display_data"
    },
    {
     "data": {
      "application/vnd.jupyter.widget-view+json": {
       "model_id": "0187466cecd54919ae20d07081dda988",
       "version_major": 2,
       "version_minor": 0
      },
      "text/plain": [
       "Button(description='Hint 5', style=ButtonStyle(button_color='#3366cc', font_style='italic', font_weight='bold'…"
      ]
     },
     "metadata": {},
     "output_type": "display_data"
    },
    {
     "data": {
      "application/vnd.jupyter.widget-view+json": {
       "model_id": "85bbf094fcab4d7985e95299072ea74c",
       "version_major": 2,
       "version_minor": 0
      },
      "text/plain": [
       "Output()"
      ]
     },
     "metadata": {},
     "output_type": "display_data"
    },
    {
     "data": {
      "application/vnd.jupyter.widget-view+json": {
       "model_id": "2040a3d3a09740bd8f16586e1e4588cb",
       "version_major": 2,
       "version_minor": 0
      },
      "text/plain": [
       "Button(description='Hint 6', style=ButtonStyle(button_color='#3366cc', font_style='italic', font_weight='bold'…"
      ]
     },
     "metadata": {},
     "output_type": "display_data"
    },
    {
     "data": {
      "application/vnd.jupyter.widget-view+json": {
       "model_id": "ad8c43fd951c4433ad6d5b06f4ed2029",
       "version_major": 2,
       "version_minor": 0
      },
      "text/plain": [
       "Output()"
      ]
     },
     "metadata": {},
     "output_type": "display_data"
    },
    {
     "data": {
      "application/vnd.jupyter.widget-view+json": {
       "model_id": "66031a0382634cfaa3b71b89eb735eae",
       "version_major": 2,
       "version_minor": 0
      },
      "text/plain": [
       "Button(description='Solution', style=ButtonStyle(button_color='#33cc99', font_style='italic', font_weight='bol…"
      ]
     },
     "metadata": {},
     "output_type": "display_data"
    },
    {
     "data": {
      "application/vnd.jupyter.widget-view+json": {
       "model_id": "29d5ba1be19b416a870a444fd0629e4a",
       "version_major": 2,
       "version_minor": 0
      },
      "text/plain": [
       "Output()"
      ]
     },
     "metadata": {},
     "output_type": "display_data"
    }
   ],
   "source": [
    "q5.display_buttons()"
   ]
  },
  {
   "cell_type": "markdown",
   "metadata": {},
   "source": [
    "## Ejercicio 9\n",
    "Para este ejercicio vamos a poner en práctica [las funciones built in](https://docs.python.org/3/library/functions.html).\n",
    "\n",
    "1. Calcula el máximo de la lista: [4, 6, 8, -1]\n",
    "2. Suma todos los elementos de la lista anterior\n",
    "3. Redondea este float a 3 dígitos decimales: 63.451256965\n",
    "4. Valor absoluto de: -74"
   ]
  },
  {
   "cell_type": "code",
   "execution_count": null,
   "metadata": {},
   "outputs": [],
   "source": []
  },
  {
   "cell_type": "markdown",
   "metadata": {},
   "source": [
    "## Ejercicio 10\n",
    "Para el siguiente string se pide imprimir por pantalla los siguientes casos\n",
    "\n",
    "    \"A quien madruga, dios le ayuda\"\n",
    "\n",
    "1. Pasarlo todo a mayusculas\n",
    "2. Pasarlo todo a minusculas\n",
    "3. Solo las iniciales de las palabras\n",
    "4. Crea una lista dividiendolo por sus espacios\n",
    "5. Sustituye las comas `,` por puntos y comas `;`\n",
    "6. Elimina las `a` minusculas\n",
    "\n",
    "**IMPORTANTE**: De las pistas 3 a 9 son las soluciones. Podéis ir desplegándolas de una en una."
   ]
  },
  {
   "cell_type": "code",
   "execution_count": null,
   "metadata": {},
   "outputs": [],
   "source": []
  },
  {
   "cell_type": "code",
   "execution_count": 12,
   "metadata": {},
   "outputs": [
    {
     "data": {
      "application/vnd.jupyter.widget-view+json": {
       "model_id": "2a2165ea65d64410a7bc97ea3d03539d",
       "version_major": 2,
       "version_minor": 0
      },
      "text/plain": [
       "Button(description='Hint 1', style=ButtonStyle(button_color='#3366cc', font_style='italic', font_weight='bold'…"
      ]
     },
     "metadata": {},
     "output_type": "display_data"
    },
    {
     "data": {
      "application/vnd.jupyter.widget-view+json": {
       "model_id": "249aa0d0b58446d68dcaa6f41643dd7d",
       "version_major": 2,
       "version_minor": 0
      },
      "text/plain": [
       "Output()"
      ]
     },
     "metadata": {},
     "output_type": "display_data"
    },
    {
     "data": {
      "application/vnd.jupyter.widget-view+json": {
       "model_id": "92357c5bb800476c936fdc031b55bce7",
       "version_major": 2,
       "version_minor": 0
      },
      "text/plain": [
       "Button(description='Hint 2', style=ButtonStyle(button_color='#3366cc', font_style='italic', font_weight='bold'…"
      ]
     },
     "metadata": {},
     "output_type": "display_data"
    },
    {
     "data": {
      "application/vnd.jupyter.widget-view+json": {
       "model_id": "5e6f2553c9404b8796959ffb61c65e0a",
       "version_major": 2,
       "version_minor": 0
      },
      "text/plain": [
       "Output()"
      ]
     },
     "metadata": {},
     "output_type": "display_data"
    },
    {
     "data": {
      "application/vnd.jupyter.widget-view+json": {
       "model_id": "7d786fbdeb614821bd5cd71fa4016152",
       "version_major": 2,
       "version_minor": 0
      },
      "text/plain": [
       "Button(description='Hint 3', style=ButtonStyle(button_color='#3366cc', font_style='italic', font_weight='bold'…"
      ]
     },
     "metadata": {},
     "output_type": "display_data"
    },
    {
     "data": {
      "application/vnd.jupyter.widget-view+json": {
       "model_id": "fa6441c3be214e898a1ee4306088e231",
       "version_major": 2,
       "version_minor": 0
      },
      "text/plain": [
       "Output()"
      ]
     },
     "metadata": {},
     "output_type": "display_data"
    },
    {
     "data": {
      "application/vnd.jupyter.widget-view+json": {
       "model_id": "0a45cb3c92554296af33388ba97eb0f1",
       "version_major": 2,
       "version_minor": 0
      },
      "text/plain": [
       "Button(description='Hint 4', style=ButtonStyle(button_color='#3366cc', font_style='italic', font_weight='bold'…"
      ]
     },
     "metadata": {},
     "output_type": "display_data"
    },
    {
     "data": {
      "application/vnd.jupyter.widget-view+json": {
       "model_id": "040027e2c58e49fea1621dd3621bdbc3",
       "version_major": 2,
       "version_minor": 0
      },
      "text/plain": [
       "Output()"
      ]
     },
     "metadata": {},
     "output_type": "display_data"
    },
    {
     "data": {
      "application/vnd.jupyter.widget-view+json": {
       "model_id": "96b4714806d74b5b92d33eebc346c080",
       "version_major": 2,
       "version_minor": 0
      },
      "text/plain": [
       "Button(description='Hint 5', style=ButtonStyle(button_color='#3366cc', font_style='italic', font_weight='bold'…"
      ]
     },
     "metadata": {},
     "output_type": "display_data"
    },
    {
     "data": {
      "application/vnd.jupyter.widget-view+json": {
       "model_id": "149a616b60d84adeb02204f15e2023d0",
       "version_major": 2,
       "version_minor": 0
      },
      "text/plain": [
       "Output()"
      ]
     },
     "metadata": {},
     "output_type": "display_data"
    },
    {
     "data": {
      "application/vnd.jupyter.widget-view+json": {
       "model_id": "cbecf899649d4c749783d26f2f5d39b8",
       "version_major": 2,
       "version_minor": 0
      },
      "text/plain": [
       "Button(description='Hint 6', style=ButtonStyle(button_color='#3366cc', font_style='italic', font_weight='bold'…"
      ]
     },
     "metadata": {},
     "output_type": "display_data"
    },
    {
     "data": {
      "application/vnd.jupyter.widget-view+json": {
       "model_id": "16d182e042364257bc8b6e2cda23da7e",
       "version_major": 2,
       "version_minor": 0
      },
      "text/plain": [
       "Output()"
      ]
     },
     "metadata": {},
     "output_type": "display_data"
    },
    {
     "data": {
      "application/vnd.jupyter.widget-view+json": {
       "model_id": "9a32a0822e7e4dc1be2d2a44b1f21422",
       "version_major": 2,
       "version_minor": 0
      },
      "text/plain": [
       "Button(description='Hint 7', style=ButtonStyle(button_color='#3366cc', font_style='italic', font_weight='bold'…"
      ]
     },
     "metadata": {},
     "output_type": "display_data"
    },
    {
     "data": {
      "application/vnd.jupyter.widget-view+json": {
       "model_id": "2617dc2038b14bdb83355a9325296d8b",
       "version_major": 2,
       "version_minor": 0
      },
      "text/plain": [
       "Output()"
      ]
     },
     "metadata": {},
     "output_type": "display_data"
    },
    {
     "data": {
      "application/vnd.jupyter.widget-view+json": {
       "model_id": "6f447a9e78784354b189211105d445f6",
       "version_major": 2,
       "version_minor": 0
      },
      "text/plain": [
       "Button(description='Hint 8', style=ButtonStyle(button_color='#3366cc', font_style='italic', font_weight='bold'…"
      ]
     },
     "metadata": {},
     "output_type": "display_data"
    },
    {
     "data": {
      "application/vnd.jupyter.widget-view+json": {
       "model_id": "7fb6045e4ad24c74be60ee5188579a0c",
       "version_major": 2,
       "version_minor": 0
      },
      "text/plain": [
       "Output()"
      ]
     },
     "metadata": {},
     "output_type": "display_data"
    },
    {
     "data": {
      "application/vnd.jupyter.widget-view+json": {
       "model_id": "54cb7d5f840441198de6ba6c46e98796",
       "version_major": 2,
       "version_minor": 0
      },
      "text/plain": [
       "Button(description='Hint 9', style=ButtonStyle(button_color='#3366cc', font_style='italic', font_weight='bold'…"
      ]
     },
     "metadata": {},
     "output_type": "display_data"
    },
    {
     "data": {
      "application/vnd.jupyter.widget-view+json": {
       "model_id": "926b836ecc004594a2800ed026ec2bb2",
       "version_major": 2,
       "version_minor": 0
      },
      "text/plain": [
       "Output()"
      ]
     },
     "metadata": {},
     "output_type": "display_data"
    },
    {
     "data": {
      "application/vnd.jupyter.widget-view+json": {
       "model_id": "499c8c39570f44ea8037db07bf92a243",
       "version_major": 2,
       "version_minor": 0
      },
      "text/plain": [
       "Button(description='Solution', style=ButtonStyle(button_color='#33cc99', font_style='italic', font_weight='bol…"
      ]
     },
     "metadata": {},
     "output_type": "display_data"
    },
    {
     "data": {
      "application/vnd.jupyter.widget-view+json": {
       "model_id": "4a746d3ed52847ce9cab083f062cb21b",
       "version_major": 2,
       "version_minor": 0
      },
      "text/plain": [
       "Output()"
      ]
     },
     "metadata": {},
     "output_type": "display_data"
    }
   ],
   "source": [
    "q6.display_buttons()"
   ]
  },
  {
   "cell_type": "markdown",
   "metadata": {},
   "source": [
    "## Ejercicio 11\n",
    "1. Crea una lista con 3 elementos numéricos\n",
    "2. Añade un cuarto elemento\n",
    "3. Calcula la suma de todos\n",
    "4. Elimina el segundo elemento de la lista\n",
    "5. Añade otro elemento en la posicion 3 de la lista\n",
    "6. Crea otra lista con 4 elementos y concaténala a la que ya tenías."
   ]
  },
  {
   "cell_type": "code",
   "execution_count": null,
   "metadata": {},
   "outputs": [],
   "source": []
  },
  {
   "cell_type": "code",
   "execution_count": 13,
   "metadata": {},
   "outputs": [
    {
     "data": {
      "application/vnd.jupyter.widget-view+json": {
       "model_id": "16cb40f7f9b34054a72330787deb70a2",
       "version_major": 2,
       "version_minor": 0
      },
      "text/plain": [
       "Button(description='Hint 1', style=ButtonStyle(button_color='#3366cc', font_style='italic', font_weight='bold'…"
      ]
     },
     "metadata": {},
     "output_type": "display_data"
    },
    {
     "data": {
      "application/vnd.jupyter.widget-view+json": {
       "model_id": "86cddde3d5784fb1beed3ba9e68498a0",
       "version_major": 2,
       "version_minor": 0
      },
      "text/plain": [
       "Output()"
      ]
     },
     "metadata": {},
     "output_type": "display_data"
    },
    {
     "data": {
      "application/vnd.jupyter.widget-view+json": {
       "model_id": "b5bbad3e1d2a469194578343d9e415b8",
       "version_major": 2,
       "version_minor": 0
      },
      "text/plain": [
       "Button(description='Hint 2', style=ButtonStyle(button_color='#3366cc', font_style='italic', font_weight='bold'…"
      ]
     },
     "metadata": {},
     "output_type": "display_data"
    },
    {
     "data": {
      "application/vnd.jupyter.widget-view+json": {
       "model_id": "cc7ca76ea5cc4bfb8611a9b4e6893849",
       "version_major": 2,
       "version_minor": 0
      },
      "text/plain": [
       "Output()"
      ]
     },
     "metadata": {},
     "output_type": "display_data"
    },
    {
     "data": {
      "application/vnd.jupyter.widget-view+json": {
       "model_id": "7f2fd052c8204756b768363bc849badc",
       "version_major": 2,
       "version_minor": 0
      },
      "text/plain": [
       "Button(description='Hint 3', style=ButtonStyle(button_color='#3366cc', font_style='italic', font_weight='bold'…"
      ]
     },
     "metadata": {},
     "output_type": "display_data"
    },
    {
     "data": {
      "application/vnd.jupyter.widget-view+json": {
       "model_id": "8e6725d2f53c4c61ba7337b410fe68a5",
       "version_major": 2,
       "version_minor": 0
      },
      "text/plain": [
       "Output()"
      ]
     },
     "metadata": {},
     "output_type": "display_data"
    },
    {
     "data": {
      "application/vnd.jupyter.widget-view+json": {
       "model_id": "38281a9558394ca8a5d80b6827fd8871",
       "version_major": 2,
       "version_minor": 0
      },
      "text/plain": [
       "Button(description='Hint 4', style=ButtonStyle(button_color='#3366cc', font_style='italic', font_weight='bold'…"
      ]
     },
     "metadata": {},
     "output_type": "display_data"
    },
    {
     "data": {
      "application/vnd.jupyter.widget-view+json": {
       "model_id": "7eef57a5644b489dbbc04d6e981eb256",
       "version_major": 2,
       "version_minor": 0
      },
      "text/plain": [
       "Output()"
      ]
     },
     "metadata": {},
     "output_type": "display_data"
    },
    {
     "data": {
      "application/vnd.jupyter.widget-view+json": {
       "model_id": "6c84ed98b2e3444180d4f8ea207a4675",
       "version_major": 2,
       "version_minor": 0
      },
      "text/plain": [
       "Button(description='Hint 5', style=ButtonStyle(button_color='#3366cc', font_style='italic', font_weight='bold'…"
      ]
     },
     "metadata": {},
     "output_type": "display_data"
    },
    {
     "data": {
      "application/vnd.jupyter.widget-view+json": {
       "model_id": "4adff566d5e849ff83b9321431d26def",
       "version_major": 2,
       "version_minor": 0
      },
      "text/plain": [
       "Output()"
      ]
     },
     "metadata": {},
     "output_type": "display_data"
    },
    {
     "data": {
      "application/vnd.jupyter.widget-view+json": {
       "model_id": "b9a50fcb3e404719a40dca3fcf037599",
       "version_major": 2,
       "version_minor": 0
      },
      "text/plain": [
       "Button(description='Hint 6', style=ButtonStyle(button_color='#3366cc', font_style='italic', font_weight='bold'…"
      ]
     },
     "metadata": {},
     "output_type": "display_data"
    },
    {
     "data": {
      "application/vnd.jupyter.widget-view+json": {
       "model_id": "3616093b56fa4c99a9459b412d83c6c5",
       "version_major": 2,
       "version_minor": 0
      },
      "text/plain": [
       "Output()"
      ]
     },
     "metadata": {},
     "output_type": "display_data"
    },
    {
     "data": {
      "application/vnd.jupyter.widget-view+json": {
       "model_id": "26d90bc2de854e51b001d6be39b147ab",
       "version_major": 2,
       "version_minor": 0
      },
      "text/plain": [
       "Button(description='Hint 7', style=ButtonStyle(button_color='#3366cc', font_style='italic', font_weight='bold'…"
      ]
     },
     "metadata": {},
     "output_type": "display_data"
    },
    {
     "data": {
      "application/vnd.jupyter.widget-view+json": {
       "model_id": "774758e4bb004c0cbab6db8e08cda5e0",
       "version_major": 2,
       "version_minor": 0
      },
      "text/plain": [
       "Output()"
      ]
     },
     "metadata": {},
     "output_type": "display_data"
    },
    {
     "data": {
      "application/vnd.jupyter.widget-view+json": {
       "model_id": "f05a4c8b702f4ff49b84eed3a3ae9021",
       "version_major": 2,
       "version_minor": 0
      },
      "text/plain": [
       "Button(description='Solution', style=ButtonStyle(button_color='#33cc99', font_style='italic', font_weight='bol…"
      ]
     },
     "metadata": {},
     "output_type": "display_data"
    },
    {
     "data": {
      "application/vnd.jupyter.widget-view+json": {
       "model_id": "d504d3fd91e249e389b5f249bb3d0a38",
       "version_major": 2,
       "version_minor": 0
      },
      "text/plain": [
       "Output()"
      ]
     },
     "metadata": {},
     "output_type": "display_data"
    }
   ],
   "source": [
    "q7.display_buttons()"
   ]
  },
  {
   "cell_type": "code",
   "execution_count": null,
   "metadata": {},
   "outputs": [],
   "source": []
  }
 ],
 "metadata": {
  "hide_input": false,
  "kernelspec": {
   "display_name": "Python 3 (ipykernel)",
   "language": "python",
   "name": "python3"
  },
  "language_info": {
   "codemirror_mode": {
    "name": "ipython",
    "version": 3
   },
   "file_extension": ".py",
   "mimetype": "text/x-python",
   "name": "python",
   "nbconvert_exporter": "python",
   "pygments_lexer": "ipython3",
   "version": "3.7.4"
  },
  "toc": {
   "base_numbering": 1,
   "nav_menu": {},
   "number_sections": true,
   "sideBar": true,
   "skip_h1_title": false,
   "title_cell": "Table of Contents",
   "title_sidebar": "Contents",
   "toc_cell": false,
   "toc_position": {},
   "toc_section_display": true,
   "toc_window_display": true
  },
  "vscode": {
   "interpreter": {
    "hash": "8e4665cba7aa4b1b151ee1708284a3bd913c42c8c783ec2689ad9f7256e78c76"
   }
  }
 },
 "nbformat": 4,
 "nbformat_minor": 4
}
