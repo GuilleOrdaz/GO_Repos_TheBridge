{
 "cells": [
  {
   "cell_type": "markdown",
   "metadata": {},
   "source": [
    "![imagen](./img/ejercicios.png)"
   ]
  },
  {
   "cell_type": "markdown",
   "metadata": {},
   "source": [
    "# Ejercicios Flujos de control"
   ]
  },
  {
   "cell_type": "markdown",
   "metadata": {},
   "source": [
    "## Ejercicio 1\n",
    "Declara una variable numérica que será una hora cualquiera del día. Implementa mediante sentencias `if/elif/else` la siguiente casuística:\n",
    "\n",
    "* Si es entre las 0 y las 8, print \"Durmiendo\"\n",
    "* Si es entre las 9 y las 18, print \"Trabajando\"\n",
    "* Si es entre las 19 y las 21, print \"Clase\"\n",
    "* Si es entre las 22 y las 24, print \"Descanso\"\n",
    "* En cualquier otro caso, print \"Transporte o error\""
   ]
  },
  {
   "cell_type": "code",
   "execution_count": 19,
   "metadata": {},
   "outputs": [
    {
     "name": "stdout",
     "output_type": "stream",
     "text": [
      "Trabajando\n"
     ]
    }
   ],
   "source": [
    "import datetime\n",
    "\n",
    "horas = datetime.datetime.now()\n",
    "horas1 = (horas.hour)\n",
    "\n",
    "if (horas1 >= 0)&(horas1 <=8):\n",
    "    print(\"Durmiendo\")\n",
    "elif (horas1 >= 9)&(horas1 <= 18):\n",
    "    print(\"Trabajando\")\n",
    "elif (horas1 >= 19)&(horas1 <= 21):\n",
    "    print(\"Clase\")\n",
    "elif (horas1 >= 22)&(horas1 <= 24):\n",
    "    print(\"Descanso\")\n",
    "elif (horas1 > 24):\n",
    "    print(\"Transporte o error\")\n"
   ]
  },
  {
   "cell_type": "code",
   "execution_count": null,
   "metadata": {},
   "outputs": [],
   "source": [
    "#Opcion 2 #Usar input\n",
    "\n",
    "#hour  = int(input(Que hora es: )\n",
    "#y luego condicional\n",
    "\n",
    "#Opcion 3\n",
    "\n",
    "#hour = 13\n",
    "#print(hour)\n",
    "\n",
    "#y luego hacer las condicionales"
   ]
  },
  {
   "cell_type": "markdown",
   "metadata": {},
   "source": [
    "## Ejercicio 2\n",
    "En este ejercicio vamos a implementar un calculador de precios de casas muy sencillo. Tenemos las siguientes variables:\n",
    "\n",
    "> superficie\n",
    ">\n",
    "> distrito\n",
    "\n",
    "Implementa mediante sentencias `if/elif/else` la siguiente casuística:\n",
    "\n",
    "1. Si el distrito es \"Moncloa\" o \"Centro\", y además la superficie es superior a 100 metros cuadrados, el precio de la casa es de 1000\n",
    "2. Si el distrito es \"Salamanca\", y además la superficie de la casa es al menos de 150 metros, el precio de la casa es de 1500\n",
    "3. Si el distrito no es \"Retiro\" y la superficie está entre 60 y 80 metros, el precio es de 600\n",
    "4. En cualquier otro caso, el precio será de 0"
   ]
  },
  {
   "cell_type": "code",
   "execution_count": 1,
   "metadata": {},
   "outputs": [
    {
     "name": "stdout",
     "output_type": "stream",
     "text": [
      "El precio de la casa es de 1000 euros\n",
      "El precio es de 0 euros\n"
     ]
    }
   ],
   "source": [
    "superficie = int(input(\"Introduzca la superficie: \"))\n",
    "distrito = str(input(\"Introduzca su distrito: \")) \n",
    "\n",
    "if ((distrito == \"Moncloa\") | (distrito == \"Centro\"))&(superficie > 100):\n",
    "    print(\"El precio de la casa es de 1000 euros\")\n",
    "if (distrito == \"Salamanca\")&(superficie >= 150):\n",
    "    print(\"El precio es de 1500 euros\")\n",
    "elif(distrito != \"Retiro\")&(superficie >= 60)&(superficie <= 80):\n",
    "    print(\"El precio es de 600 euros\")\n",
    "else:\n",
    "    print(\"El precio es de 0 euros\")\n",
    "\n",
    "#ojo con los condicionales las prioridades son importantes & tiene prioridad sobre or, entonces hay que usar \n",
    "#parentesis para darle prioridad a las condicionales or"
   ]
  },
  {
   "cell_type": "markdown",
   "metadata": {},
   "source": [
    "## Ejercicio 3\n",
    "En este ejercicio vamos a realizar un programa muy parecido. Para este caso queremos que se cumplan las siguientes condiciones:\n",
    "\n",
    "1. Primero se compruebe si el distrito es \"Retiro\". Si es asi, que imprima \"Distrito Retiro\", y si no, \"Otro distrito\"\n",
    "2. Si el distrito es \"Retiro\", comprueba si si la superficie es mayor de 100 metros cuadrados. En tal caso que imprima un precio de 1000, y si no, de 500.\n",
    "\n",
    "Hay que usar `ifs` anidados"
   ]
  },
  {
   "cell_type": "code",
   "execution_count": 2,
   "metadata": {},
   "outputs": [
    {
     "name": "stdout",
     "output_type": "stream",
     "text": [
      "Introduzca su distrito: Nicolas Salmeron\n",
      "Otro Distrito\n"
     ]
    }
   ],
   "source": [
    "distrito = str(input(\"Introduzca su distrito: \"))\n",
    "\n",
    "if (distrito == \"Retiro\"):\n",
    "    print(\"Distrito Retiro\")\n",
    "\n",
    "elif (distrito != \"Retiro\"):\n",
    "    print(\"Otro Distrito\")"
   ]
  },
  {
   "cell_type": "code",
   "execution_count": 7,
   "metadata": {},
   "outputs": [
    {
     "name": "stdout",
     "output_type": "stream",
     "text": [
      "Introduzca la superficie: 120\n",
      "Introduzca su distrito: Retiro\n",
      "Distrito Retiro\n",
      "El precio es de 1000 euros\n"
     ]
    }
   ],
   "source": [
    "superficie = int(input(\"Introduzca la superficie: \"))\n",
    "distrito = str(input(\"Introduzca su distrito: \"))\n",
    "\n",
    "if (distrito == \"Retiro\"):\n",
    "    print(\"Distrito Retiro\")\n",
    "    if (superficie > 100):\n",
    "        print(\"El precio es de 1000 euros\")\n",
    "        if (superficie < 100):\n",
    "            print(\"El precio es de 500 euros\")\n"
   ]
  },
  {
   "cell_type": "markdown",
   "metadata": {},
   "source": [
    "## Ejercicio 4\n",
    "Escribe un programa que tenga dos variables: un numero, y una lista numérica. El programa debe recorrer la lista e imprimir por pantalla cada elemento de la lista multiplicado por el número"
   ]
  },
  {
   "cell_type": "code",
   "execution_count": 11,
   "metadata": {},
   "outputs": [
    {
     "name": "stdout",
     "output_type": "stream",
     "text": [
      "[1, 2, 3, 4]\n",
      "1\n",
      "2\n",
      "3\n",
      "4\n"
     ]
    }
   ],
   "source": [
    "#practicando bucles (no es el ejercicio)\n",
    "num_mult = 2\n",
    "lst_1 = [1,2,3,4]\n",
    "print(lst_1)\n",
    "\n",
    "for años in lst_1:\n",
    "    print(años)"
   ]
  },
  {
   "cell_type": "code",
   "execution_count": 24,
   "metadata": {},
   "outputs": [
    {
     "name": "stdout",
     "output_type": "stream",
     "text": [
      "2\n",
      "4\n",
      "6\n",
      "8\n"
     ]
    }
   ],
   "source": [
    "lst_1 = [1, 2, 3, 4]\n",
    "\n",
    "for idx in range(len(lst_1)):\n",
    "    print(lst_1[idx] * 2)\n",
    "\n",
    "#num = 2\n",
    "#for i in lst_1:\n",
    "    #print(num*lst_1)"
   ]
  },
  {
   "cell_type": "markdown",
   "metadata": {},
   "source": [
    "## Ejercicio 5\n",
    "Imprime por pantalla los números -10 al -1. En ese orden. Consulta [la documentación](https://www.w3schools.com/python/ref_func_range.asp) de `range`"
   ]
  },
  {
   "cell_type": "code",
   "execution_count": 2,
   "metadata": {
    "scrolled": true
   },
   "outputs": [
    {
     "name": "stdout",
     "output_type": "stream",
     "text": [
      "[-10, -9, -8, -7, -6, -5, -4, -3, -2, -1]\n"
     ]
    }
   ],
   "source": [
    "print(list(range(-10,0)))\n",
    "\n",
    "o \n",
    "\n",
    "#list(range(-10,0))"
   ]
  },
  {
   "cell_type": "markdown",
   "metadata": {},
   "source": [
    "## Ejercicio 6\n",
    "Dada la siguiente lista:\n",
    "\n",
    "> list1 = [12, 15, 32, 42, 55, 75, 122, 132, 150, 180, 200]\n",
    "\n",
    "Implementa un programa que los recorra e imprima por pantalla todos los divisibles por 5. Si nos encontramos con alguno que sea mayor que 150, detener el bucle."
   ]
  },
  {
   "cell_type": "code",
   "execution_count": 40,
   "metadata": {},
   "outputs": [
    {
     "name": "stdout",
     "output_type": "stream",
     "text": [
      "15\n",
      "55\n",
      "75\n",
      "150\n",
      "180\n"
     ]
    }
   ],
   "source": [
    "list1 = [12, 15, 32, 42, 55, 75, 122, 132, 150, 180, 200]\n",
    "\n",
    "for i in list1:\n",
    "    \n",
    "    if(i % 5 == 0):\n",
    "        print(i)\n",
    "        if(i > 150):\n",
    "            break"
   ]
  },
  {
   "cell_type": "markdown",
   "metadata": {},
   "source": [
    "## Ejercicio 7\n",
    "Escribe un programa en Python que imprima por pantalla todos los números divisibles por 5 y divisibles por 7, dentro del rango de valores (150, 350)"
   ]
  },
  {
   "cell_type": "code",
   "execution_count": 50,
   "metadata": {},
   "outputs": [
    {
     "name": "stdout",
     "output_type": "stream",
     "text": [
      "175\n",
      "210\n",
      "245\n",
      "280\n",
      "315\n"
     ]
    }
   ],
   "source": [
    "#list(range(150,350))\n",
    "a = list(range(150,350))\n",
    "\n",
    "for i in a:\n",
    "    if(i % 5 == 0) & (i % 7 == 0):\n",
    "        print(i)\n",
    "    \n",
    "#list(range(150,350))\n"
   ]
  },
  {
   "cell_type": "markdown",
   "metadata": {},
   "source": [
    "## Ejercicio 8\n",
    "Implementa un programa que imprima por pantalla el siguiente patrón\n",
    "\n",
    "5 4 3 2 1 \n",
    "\n",
    "4 3 2 1 \n",
    "\n",
    "3 2 1 \n",
    "\n",
    "2 1 \n",
    "\n",
    "1\n",
    "\n",
    "NOTA: NO hay lineas en blanco entre una línea y otra."
   ]
  },
  {
   "cell_type": "code",
   "execution_count": 15,
   "metadata": {},
   "outputs": [
    {
     "name": "stdout",
     "output_type": "stream",
     "text": [
      "[5, 4, 3, 2, 1]\n",
      "[4, 3, 2, 1]\n",
      "[3, 2, 1]\n",
      "[2, 1]\n",
      "[1]\n"
     ]
    }
   ],
   "source": [
    "b = [5, 4, 3, 2, 1]\n",
    "\n",
    "for i in b:\n",
    "    print(list(range(i,0,-1)))\n",
    "\n",
    "#for i in b:\n",
    "    #print(list(range(0,i)))\n",
    "    \n",
    "#b = [1, 2, 3, 4, 5]   \n",
    "\n",
    "#print(b)\n",
    "\n",
    "#for i in b:\n",
    "    #print(list(range(i,0)))\n",
    "          "
   ]
  },
  {
   "cell_type": "code",
   "execution_count": null,
   "metadata": {},
   "outputs": [],
   "source": []
  },
  {
   "cell_type": "markdown",
   "metadata": {},
   "source": [
    "## Ejercicio 9\n",
    "En este ejercicio vamos a crear un pequeño juego. Se trata de intentar adivinar un numero del 1 al 5. Tenemos dos intentos para acertar. Pasos a seguir:\n",
    "\n",
    "1. Ya viene implementado cómo obtener un número aleatorio del 1 al 5\n",
    "2. Tendrás que declarar en una variable el numero de vidas, y mediante un bucle while, comprobar que todavia quedan vidas.\n",
    "3. Dentro del bucle, obtener el valor del usuario y comprobar si es ese el numero a adivinar. Si no, actualizar las vidas.\n",
    "4. Si acertamos, salimos del bucle e imprimimos por pantalla \"You win\". Y si perdemos también salimos del bucle, pero en este caso imprimimos por pantalla \"You lose\".\n",
    "\n",
    "TIP: te puede resultar útil usar la sentencia `else` cuando acabe el bucle `while`. Lo que haya dentro de ese `else` se ejecutará una vez acabe la ejecución del `while`. Lo podrás usar para cuando pierdas."
   ]
  },
  {
   "cell_type": "code",
   "execution_count": 1,
   "metadata": {
    "scrolled": true
   },
   "outputs": [
    {
     "name": "stdout",
     "output_type": "stream",
     "text": [
      "You Lose 3\n"
     ]
    }
   ],
   "source": [
    "from random import randint\n",
    "\n",
    "# Genera un numero aleatorio del 1 al 5\n",
    "random_number = randint(1, 5)\n",
    "\n",
    "import random\n",
    "numero = random.randint(1,5)\n",
    "\n",
    "num_vidas = 2\n",
    "\n",
    "num_vidas = 2\n",
    "\n",
    "var1 = int(input(\"Introduce un numero del 1 al 5: \"))\n",
    "var2 = int(input(f\"Prueba de nuevo te queda {num_vidas-1} vida: \"))\n",
    "\n",
    "while (var1 == numero):\n",
    "    print(\"You Win!\")\n",
    "    break\n",
    "else:\n",
    "    print(\"You Lose\",var2)\n",
    "                   \n",
    "        \n"
   ]
  },
  {
   "cell_type": "code",
   "execution_count": 2,
   "metadata": {},
   "outputs": [
    {
     "name": "stdout",
     "output_type": "stream",
     "text": [
      "2\n"
     ]
    }
   ],
   "source": [
    "import random\n",
    "#print(random.randint(1,5))\n",
    "\n",
    "numero = random.randint(1,5)\n",
    "\n",
    "print(numero)\n",
    "\n",
    "num_vidas = 2\n",
    "\n"
   ]
  },
  {
   "cell_type": "markdown",
   "metadata": {},
   "source": [
    "## Ejercicios extra"
   ]
  },
  {
   "cell_type": "markdown",
   "metadata": {},
   "source": [
    "Más ejercicios en [este link](https://www.w3resource.com/python-exercises/python-conditional-statements-and-loop-exercises.php)\n",
    "\n",
    "Y [aquí](https://erlerobotics.gitbooks.io/erle-robotics-learning-python-gitbook-free/loops/exercises_loops.html)"
   ]
  }
 ],
 "metadata": {
  "kernelspec": {
   "display_name": "Python 3 (ipykernel)",
   "language": "python",
   "name": "python3"
  },
  "language_info": {
   "codemirror_mode": {
    "name": "ipython",
    "version": 3
   },
   "file_extension": ".py",
   "mimetype": "text/x-python",
   "name": "python",
   "nbconvert_exporter": "python",
   "pygments_lexer": "ipython3",
   "version": "3.7.4"
  },
  "vscode": {
   "interpreter": {
    "hash": "b213cd0c7dc86fb09f7378e09d09f37ed50992d496516f682658e1f7568be4e1"
   }
  }
 },
 "nbformat": 4,
 "nbformat_minor": 4
}
