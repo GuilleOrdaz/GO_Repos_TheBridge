{
 "cells": [
  {
   "cell_type": "markdown",
   "metadata": {},
   "source": [
    "# Test DS-FT Nov 2020\n",
    "\n"
   ]
  },
  {
   "cell_type": "markdown",
   "metadata": {},
   "source": [
    "## Primera parte:\n",
    "\n",
    "https://docs.google.com/forms/d/e/1FAIpQLScmg-0jTnXb1LSMnWWmc9JwtvZjZmIIfBIK5qnk-l1JI5JfvA/viewform?usp=sf_link\n",
    "\n",
    "El examen tendrá una duración de 3h. Se recomienda dedicar al test 40 minutos aprox."
   ]
  },
  {
   "cell_type": "markdown",
   "metadata": {},
   "source": [
    "-----------------"
   ]
  },
  {
   "cell_type": "markdown",
   "metadata": {},
   "source": [
    "## Segunda parte, ejercicios prácticos:\n",
    "Crea todas las celdas que necesites"
   ]
  },
  {
   "cell_type": "markdown",
   "metadata": {},
   "source": [
    "## Ejercicios prácticos"
   ]
  },
  {
   "cell_type": "markdown",
   "metadata": {},
   "source": [
    "#### Ejercicio 1.\n",
    "En este ejercicio se va a crear una lista con los siguientes elementos. Primero, crearemos las variables que luego añadiremos a la lista. Las variables son las siguientes:\n",
    "\n",
    "1. Crea una variable llamada `num_dni` de tipo Integer que represente el primer número de tu DNI. \n",
    "2. Crea una variable llamada `let_dni` de tipo String y que represente la letra de vuestro DNI.\n",
    "3. Crea una variable llamada `tip_ord` de tipo Boolean True si usas Windows y False si usas Mac.\n",
    "4. Crea una variable llamada `nada` de tipo None cuyo valor sea None.\n",
    "5. Crea una variable llamada `lista_deseo` de tipo List que contenga los cuatro objetos que te llevarías a una isla desierta. Cada elemento ha de ser de tipo String y el tamaño de la lista ha de ser 4.\n",
    "6. Crea una variable llamada `tupla_ropa` de tipo Tuple con la marca de la prenda superior, inferior y calzado que llevas puesto.\n",
    "7. Crea una variable llamada `dict_info` con dos keys y dos values. Una key es 'nombre', teniendo como value vuestro nombre. Otra key es 'edad', teniendo como value vuestra edad.\n",
    "8. Crea una variable llamada `flo_hor` con la hora actual separada por punto en vez de dos puntos. Ejemplo: si son las 10:06, el valor de la variable sería 10.06.\n",
    "\n",
    "Añade todos estos elementos en una lista llamada `lista_examen` en el orden de aparición."
   ]
  },
  {
   "cell_type": "code",
   "execution_count": 21,
   "metadata": {},
   "outputs": [
    {
     "name": "stdout",
     "output_type": "stream",
     "text": [
      "(7, 'S', True, None, ['Agua', 'Comida', 'Sombrilla', 'Crema'], ('nike', 'adidas', 'ganso'), {'nombre': 'Guille', 'edad': 25}, 12.04)\n"
     ]
    }
   ],
   "source": [
    " # tu respuesta aquí\n",
    "\n",
    "#1 \n",
    "\n",
    "num_dni = (7)\n",
    "let_dni = (\"S\")\n",
    "tip_ord = (True)\n",
    "nada = (None)\n",
    "lista_deseo = [\"Agua\", \"Comida\", \"Sombrilla\",\"Crema\"]\n",
    "tupla_ropa = (\"nike\", \"adidas\", \"ganso\")\n",
    "dict_info = {\"nombre\": \"Guille\", \"edad\": 25}\n",
    "flo_hor = 12.04\n",
    "\n",
    "lista_examen = [(num_dni),(let_dni),(tip_ord),(nada),(lista_deseo),(tupla_ropa),(dict_info),(flo_hor)]\n",
    "\n",
    "print(lista_examen)\n",
    "    "
   ]
  },
  {
   "cell_type": "markdown",
   "metadata": {},
   "source": [
    "#### Ejercicio 2. \n",
    "\n",
    "Para resolver este ejercicio necesitarás la lista del ejercicio anterior (`lista_examen`). Se recomeinda leer cada punto hasta el final antes de resolver el ejercicio.\n",
    "\n",
    "Se repite para que quede aún más claro: **SOLO USAR LA VARIABLE** `lista_examen`. Usar las demás variables se calificará como error.  \n",
    "\n",
    "1. Mostrar por pantalla, sin uso de funciones ni bucles: \n",
    "    - El segundo elemento de `lista_deseo` desde `lista_examen`.\n",
    "    - El calzado que llevas puesto.\n",
    "    - Vuestro nombre.\n",
    "    - La hora almacenada concatenada con vuestra edad y el número de vuestro de DNI. No debe haber espacios entre la concatenación.\n",
    "    - Si tenéis más de 20 años, el primer número de vuestro DNI es mayor a 7 y usas Mac, mostrar la posición 5 de `lista_examen`.\n",
    "    "
   ]
  },
  {
   "cell_type": "code",
   "execution_count": 35,
   "metadata": {},
   "outputs": [
    {
     "name": "stdout",
     "output_type": "stream",
     "text": [
      "[7, 'S', True, None, ['Agua', 'Comida', 'Sombrilla', 'Crema'], ('nike', 'adidas', 'ganso'), {'nombre': 'Guille', 'edad': 25}, 12.04]\n",
      "\n",
      "['Agua', 'Comida', 'Sombrilla', 'Crema']\n",
      "Comida\n",
      "('nike', 'adidas', 'ganso')\n",
      "ganso\n"
     ]
    }
   ],
   "source": [
    "# tu respuesta aquí\n",
    "\n",
    "lista_examen = [(num_dni),(let_dni),(tip_ord),(nada),(lista_deseo),(tupla_ropa),(dict_info),(flo_hor)]\n",
    "\n",
    "print(lista_examen)\n",
    "sublista = lista_examen[4]\n",
    "print()\n",
    "\n",
    "print(sublista)\n",
    "print(sublista[1])\n",
    "# print(lista_examen[4])\n",
    "# print(lista_examen[4][1])\n",
    "\n",
    "sublista2 = lista_examen[5]\n",
    "print(sublista2)\n",
    "print(sublista2[2])"
   ]
  },
  {
   "cell_type": "code",
   "execution_count": 40,
   "metadata": {},
   "outputs": [
    {
     "name": "stdout",
     "output_type": "stream",
     "text": [
      "{'nombre': 'Guille', 'edad': 25}\n",
      "2\n",
      "Guille\n"
     ]
    }
   ],
   "source": [
    "lista_examen = [(num_dni),(let_dni),(tip_ord),(nada),(lista_deseo),(tupla_ropa),(dict_info),(flo_hor)]\n",
    "\n",
    "sublista3 = lista_examen[6]\n",
    "print(sublista3)\n",
    "\n",
    "print(len(sublista3))\n",
    "print(sublista3[\"nombre\"])"
   ]
  },
  {
   "cell_type": "code",
   "execution_count": 55,
   "metadata": {},
   "outputs": [
    {
     "name": "stdout",
     "output_type": "stream",
     "text": [
      "8\n",
      "25\n",
      "['12.04257']\n"
     ]
    }
   ],
   "source": [
    "lista_examen = [(num_dni),(let_dni),(tip_ord),(nada),(lista_deseo),(tupla_ropa),(dict_info),(flo_hor)]\n",
    "\n",
    "print(len(lista_examen))\n",
    "\n",
    "sublista4 = lista_examen[6]\n",
    "print(sublista4[\"edad\"])\n",
    "\n",
    "conca = [str(lista_examen[7])+str(sublista4[\"edad\"])+str(lista_examen[0])]\n",
    "print(conca)\n",
    "\n"
   ]
  },
  {
   "cell_type": "code",
   "execution_count": 56,
   "metadata": {},
   "outputs": [],
   "source": [
    "lista_examen = [(num_dni),(let_dni),(tip_ord),(nada),(lista_deseo),(tupla_ropa),(dict_info),(flo_hor)]\n",
    "\n",
    "if (sublista4[\"edad\"] > 20) & (lista_examen[0]) & (lista_examen[2] == False):\n",
    "    print(lista_examen[5]) #no lo saca porque no uso Mac"
   ]
  },
  {
   "cell_type": "markdown",
   "metadata": {},
   "source": [
    "2. Mostrar por pantalla, con uso de un bucle `for`:\n",
    "    - Todos los elementos de `lista_examen`.\n",
    "    - Todos los elementos de `lista_deseo` desde `lista_examen`.\n",
    "    - Todos los elementos que ocupen una posición menor a 4 en `lista_examen`.\n"
   ]
  },
  {
   "cell_type": "code",
   "execution_count": 61,
   "metadata": {},
   "outputs": [
    {
     "name": "stdout",
     "output_type": "stream",
     "text": [
      "7\n",
      "S\n",
      "True\n",
      "None\n",
      "['Agua', 'Comida', 'Sombrilla', 'Crema']\n",
      "('nike', 'adidas', 'ganso')\n",
      "{'nombre': 'Guille', 'edad': 25}\n",
      "12.04\n",
      "Agua\n",
      "Comida\n",
      "Sombrilla\n",
      "Crema\n",
      "7\n",
      "S\n",
      "True\n",
      "None\n"
     ]
    }
   ],
   "source": [
    "# tu respuesta aquí\n",
    "\n",
    "for variables in (lista_examen):\n",
    "    print(variables)\n",
    "\n",
    "for variables in lista_examen[4]:\n",
    "    print(variables)\n",
    "\n",
    "for variables in lista_examen[0:4]:\n",
    "    print(variables)"
   ]
  },
  {
   "cell_type": "markdown",
   "metadata": {},
   "source": [
    "3. Mostrar por pantalla, con uso de un bucle while: \n",
    "    - Todos los elementos de `tupla_ropa` seguido de la cadena `\"-->\"` y la `posición` (int) que ocupa en la tupla accediendo desde `lista_examen`. Se aconseja utilizar *`enumerate`*.\n",
    "    - Cada key de `dict_info` seguido de la cadena \":\" seguido de su value desde `lista_examen`."
   ]
  },
  {
   "cell_type": "code",
   "execution_count": 11,
   "metadata": {},
   "outputs": [
    {
     "name": "stdout",
     "output_type": "stream",
     "text": [
      "nike --> [(0, 'nike'), (1, 'adidas'), (2, 'ganso')]\n",
      "adidas --> [(0, 'nike'), (1, 'adidas'), (2, 'ganso')]\n",
      "ganso --> [(0, 'nike'), (1, 'adidas'), (2, 'ganso')]\n"
     ]
    }
   ],
   "source": [
    "# tu respuesta aquí\n",
    "num_dni = (7)\n",
    "let_dni = (\"S\")\n",
    "tip_ord = (True)\n",
    "nada = (None)\n",
    "lista_deseo = [\"Agua\", \"Comida\", \"Sombrilla\",\"Crema\"]\n",
    "tupla_ropa = (\"nike\", \"adidas\", \"ganso\")\n",
    "dict_info = {\"nombre\": \"Guille\", \"edad\": 25}\n",
    "flo_hor = 12.04\n",
    "\n",
    "lista_examen = [(num_dni),(let_dni),(tip_ord),(nada),(lista_deseo),(tupla_ropa),(dict_info),(flo_hor)]\n",
    "\n",
    "list(enumerate(lista_examen))\n",
    "list(enumerate(lista_examen[5]))\n",
    "\n",
    "i = 0\n",
    "while i < len(tupla_ropa):\n",
    "    print(tupla_ropa[i], \"-->\",list(enumerate(lista_examen[5])))\n",
    "    i += 1"
   ]
  },
  {
   "cell_type": "code",
   "execution_count": 55,
   "metadata": {},
   "outputs": [
    {
     "name": "stdout",
     "output_type": "stream",
     "text": [
      "nike --> 0\n",
      "adidas --> 1\n",
      "ganso --> 2\n"
     ]
    }
   ],
   "source": [
    "i = 0\n",
    "while i < len(tupla_ropa):\n",
    "    print(lista_examen[5][i], \"-->\",i)\n",
    "    i += 1"
   ]
  },
  {
   "cell_type": "code",
   "execution_count": 64,
   "metadata": {},
   "outputs": [
    {
     "name": "stdout",
     "output_type": "stream",
     "text": [
      "nike --> 0\n",
      "adidas --> 1\n",
      "ganso --> 2\n"
     ]
    }
   ],
   "source": [
    "var1 = enumerate(lista_examen[5])\n",
    "calzado = list(var1)\n",
    "cal_posi = len(calzado)-1\n",
    "\n",
    "i=0\n",
    "\n",
    "while i <= cal_posi:\n",
    "    print(lista_examen[5][i],\"-->\",i)\n",
    "    i += 1"
   ]
  },
  {
   "cell_type": "code",
   "execution_count": 66,
   "metadata": {},
   "outputs": [
    {
     "name": "stdout",
     "output_type": "stream",
     "text": [
      "{'nombre': 'Guille', 'edad': 25} :\n",
      "{'nombre': 'Guille', 'edad': 25} :\n"
     ]
    }
   ],
   "source": [
    "i = 0\n",
    "while i < len(dict_info):\n",
    "    print(lista_examen[6], \":\")\n",
    "    i += 1"
   ]
  },
  {
   "cell_type": "markdown",
   "metadata": {},
   "source": [
    "#### Ejercicio 3. \n",
    "\n",
    "Crea una clase \"Humano\" que se inicializa con 3 atributos: \"edad\", \"altura\" y \"nombre\". Además, debe contar con dos métodos: \n",
    "\n",
    "- `cumplir_edad`: al llamar a este método se debe sumar 1 a la edad actual del humano. \n",
    "- `registro_nombre` que recibe parametro \"nuevo_nombre\": al llamar a este método con un parámetro de entrada, este método debe cambiar el nombre del humano por el \"nuevo_nombre\"\n",
    "\n",
    "Crea un humano llamado \"Wolfram\" que tiene 23 años de edad y mide 173 centímetros. A \"Wolfram\" nunca le gustó su nombre. Por eso, usa la función correspondiente para cambiarle su nombre por \"Benacio\". Además, hoy es su cumpleaños por lo que usa la función para aumentar su edad. \n",
    "\n",
    "Muestra por pantalla el nombre del humano antes y después de cambiarse de nombre. Muestra también la edad de Benacio antes y después de cumplir años."
   ]
  },
  {
   "cell_type": "code",
   "execution_count": null,
   "metadata": {},
   "outputs": [],
   "source": [
    "# tu respuesta aquí"
   ]
  },
  {
   "cell_type": "markdown",
   "metadata": {},
   "source": [
    "#### Ejercicio 4. \n",
    "\n",
    "Escribe una función `reverse_number` que reciba dos parámetros. Los parámetros son `cadena` y `n`. `cadena` será un string y `n` un entero. La función debe retornar un string que sea el string `cadena` al revés y que tenga concatenado el número `n` por cada caracter de `cadena`.  \n",
    "\n",
    "*No se permite usar la función built-in `reverse` ni pasar el string `cadena` a otro tipo de variable (como list)* \n",
    "\n",
    "Ejemplos de llamada a la función y lo que devuelve la función:\n",
    "\n",
    "--------\n",
    "\n",
    ">> print(reverse_number(cadena=\"aloh\", n=3))\n",
    "\n",
    ">>> h3o3l3a3\n",
    "\n",
    "--------\n",
    "\n",
    ">> print(reverse_number(cadena=\"otipep\", n=85))\n",
    "\n",
    ">>> p85e85p85i85t85o85\n",
    "\n",
    "\n",
    "\n"
   ]
  },
  {
   "cell_type": "code",
   "execution_count": 47,
   "metadata": {},
   "outputs": [
    {
     "name": "stdout",
     "output_type": "stream",
     "text": [
      "a\n",
      "l\n",
      "o\n",
      "H\n",
      "a 2\n"
     ]
    },
    {
     "ename": "TypeError",
     "evalue": "string indices must be integers",
     "output_type": "error",
     "traceback": [
      "\u001b[1;31m---------------------------------------------------------------------------\u001b[0m",
      "\u001b[1;31mTypeError\u001b[0m                                 Traceback (most recent call last)",
      "\u001b[1;32m~\\AppData\\Local\\Temp\\ipykernel_9304\\1539540222.py\u001b[0m in \u001b[0;36m<module>\u001b[1;34m\u001b[0m\n\u001b[0;32m     11\u001b[0m \u001b[1;33m\u001b[0m\u001b[0m\n\u001b[0;32m     12\u001b[0m \u001b[1;33m\u001b[0m\u001b[0m\n\u001b[1;32m---> 13\u001b[1;33m \u001b[0mreverse_number\u001b[0m\u001b[1;33m(\u001b[0m\u001b[1;34m\"Hola\"\u001b[0m\u001b[1;33m,\u001b[0m\u001b[1;36m2\u001b[0m\u001b[1;33m)\u001b[0m\u001b[1;33m\u001b[0m\u001b[1;33m\u001b[0m\u001b[0m\n\u001b[0m\u001b[0;32m     14\u001b[0m \u001b[1;33m\u001b[0m\u001b[0m\n",
      "\u001b[1;32m~\\AppData\\Local\\Temp\\ipykernel_9304\\1539540222.py\u001b[0m in \u001b[0;36mreverse_number\u001b[1;34m(cadena, n)\u001b[0m\n\u001b[0;32m      8\u001b[0m         \u001b[0mprint\u001b[0m\u001b[1;33m(\u001b[0m\u001b[0mcadena\u001b[0m\u001b[1;33m[\u001b[0m\u001b[0mi\u001b[0m\u001b[1;33m-\u001b[0m\u001b[1;36m1\u001b[0m\u001b[1;33m]\u001b[0m\u001b[1;33m,\u001b[0m\u001b[0mn\u001b[0m\u001b[1;33m)\u001b[0m\u001b[1;33m\u001b[0m\u001b[1;33m\u001b[0m\u001b[0m\n\u001b[0;32m      9\u001b[0m \u001b[1;33m\u001b[0m\u001b[0m\n\u001b[1;32m---> 10\u001b[1;33m         \u001b[1;32mreturn\u001b[0m \u001b[0mcadena\u001b[0m\u001b[1;33m[\u001b[0m\u001b[0mi\u001b[0m\u001b[1;33m,\u001b[0m\u001b[0mn\u001b[0m\u001b[1;33m,\u001b[0m\u001b[1;33m-\u001b[0m\u001b[1;36m1\u001b[0m\u001b[1;33m]\u001b[0m\u001b[1;33m\u001b[0m\u001b[1;33m\u001b[0m\u001b[0m\n\u001b[0m\u001b[0;32m     11\u001b[0m \u001b[1;33m\u001b[0m\u001b[0m\n\u001b[0;32m     12\u001b[0m \u001b[1;33m\u001b[0m\u001b[0m\n",
      "\u001b[1;31mTypeError\u001b[0m: string indices must be integers"
     ]
    }
   ],
   "source": [
    "cadena = \"Hola\"\n",
    "\n",
    "for i in range(len(cadena),0,-1):\n",
    "    print(cadena[i-1])\n",
    "\n",
    "def reverse_number(cadena, n):\n",
    "    for i in range(len(cadena),0,-1):\n",
    "        print(cadena[i-1],n)\n",
    "        \n",
    "        return cadena[i,n,-1]\n",
    "\n",
    "\n",
    "reverse_number(\"Hola\",2)\n",
    "\n"
   ]
  },
  {
   "cell_type": "code",
   "execution_count": 54,
   "metadata": {},
   "outputs": [
    {
     "name": "stdout",
     "output_type": "stream",
     "text": [
      "a\n",
      "l\n",
      "o\n",
      "H\n"
     ]
    },
    {
     "ename": "IndexError",
     "evalue": "string index out of range",
     "output_type": "error",
     "traceback": [
      "\u001b[1;31m---------------------------------------------------------------------------\u001b[0m",
      "\u001b[1;31mIndexError\u001b[0m                                Traceback (most recent call last)",
      "\u001b[1;32m~\\AppData\\Local\\Temp\\ipykernel_9304\\392449860.py\u001b[0m in \u001b[0;36m<module>\u001b[1;34m\u001b[0m\n\u001b[0;32m     10\u001b[0m         \u001b[1;32mreturn\u001b[0m \u001b[0mprint\u001b[0m\u001b[1;33m(\u001b[0m\u001b[0mcadena\u001b[0m\u001b[1;33m[\u001b[0m\u001b[0mi\u001b[0m\u001b[1;33m]\u001b[0m\u001b[1;33m+\u001b[0m\u001b[1;33m(\u001b[0m\u001b[0mn\u001b[0m\u001b[1;33m)\u001b[0m\u001b[1;33m,\u001b[0m\u001b[1;33m-\u001b[0m\u001b[1;36m1\u001b[0m\u001b[1;33m)\u001b[0m\u001b[1;33m\u001b[0m\u001b[1;33m\u001b[0m\u001b[0m\n\u001b[0;32m     11\u001b[0m \u001b[1;33m\u001b[0m\u001b[0m\n\u001b[1;32m---> 12\u001b[1;33m \u001b[0mreverse_number\u001b[0m\u001b[1;33m(\u001b[0m\u001b[1;34m\"Hola\"\u001b[0m\u001b[1;33m,\u001b[0m\u001b[1;36m2\u001b[0m\u001b[1;33m)\u001b[0m\u001b[1;33m\u001b[0m\u001b[1;33m\u001b[0m\u001b[0m\n\u001b[0m",
      "\u001b[1;32m~\\AppData\\Local\\Temp\\ipykernel_9304\\392449860.py\u001b[0m in \u001b[0;36mreverse_number\u001b[1;34m(cadena, n)\u001b[0m\n\u001b[0;32m      6\u001b[0m \u001b[1;32mdef\u001b[0m \u001b[0mreverse_number\u001b[0m\u001b[1;33m(\u001b[0m\u001b[0mcadena\u001b[0m\u001b[1;33m,\u001b[0m \u001b[0mn\u001b[0m\u001b[1;33m)\u001b[0m\u001b[1;33m:\u001b[0m\u001b[1;33m\u001b[0m\u001b[1;33m\u001b[0m\u001b[0m\n\u001b[0;32m      7\u001b[0m     \u001b[1;32mfor\u001b[0m \u001b[0mi\u001b[0m \u001b[1;32min\u001b[0m \u001b[0mrange\u001b[0m\u001b[1;33m(\u001b[0m\u001b[0mlen\u001b[0m\u001b[1;33m(\u001b[0m\u001b[0mcadena\u001b[0m\u001b[1;33m)\u001b[0m\u001b[1;33m,\u001b[0m\u001b[1;36m0\u001b[0m\u001b[1;33m,\u001b[0m\u001b[1;33m-\u001b[0m\u001b[1;36m1\u001b[0m\u001b[1;33m)\u001b[0m\u001b[1;33m:\u001b[0m\u001b[1;33m\u001b[0m\u001b[1;33m\u001b[0m\u001b[0m\n\u001b[1;32m----> 8\u001b[1;33m         \u001b[0mprint\u001b[0m\u001b[1;33m(\u001b[0m\u001b[0mcadena\u001b[0m\u001b[1;33m[\u001b[0m\u001b[0mi\u001b[0m\u001b[1;33m]\u001b[0m\u001b[1;33m+\u001b[0m\u001b[1;33m(\u001b[0m\u001b[0mn\u001b[0m\u001b[1;33m)\u001b[0m\u001b[1;33m,\u001b[0m\u001b[1;33m-\u001b[0m\u001b[1;36m1\u001b[0m\u001b[1;33m)\u001b[0m\u001b[1;33m\u001b[0m\u001b[1;33m\u001b[0m\u001b[0m\n\u001b[0m\u001b[0;32m      9\u001b[0m \u001b[1;33m\u001b[0m\u001b[0m\n\u001b[0;32m     10\u001b[0m         \u001b[1;32mreturn\u001b[0m \u001b[0mprint\u001b[0m\u001b[1;33m(\u001b[0m\u001b[0mcadena\u001b[0m\u001b[1;33m[\u001b[0m\u001b[0mi\u001b[0m\u001b[1;33m]\u001b[0m\u001b[1;33m+\u001b[0m\u001b[1;33m(\u001b[0m\u001b[0mn\u001b[0m\u001b[1;33m)\u001b[0m\u001b[1;33m,\u001b[0m\u001b[1;33m-\u001b[0m\u001b[1;36m1\u001b[0m\u001b[1;33m)\u001b[0m\u001b[1;33m\u001b[0m\u001b[1;33m\u001b[0m\u001b[0m\n",
      "\u001b[1;31mIndexError\u001b[0m: string index out of range"
     ]
    }
   ],
   "source": [
    "cadena = \"Hola\"\n",
    "\n",
    "for i in range(len(cadena),0,-1):\n",
    "    print(cadena[i-1])\n",
    "\n",
    "def reverse_number(cadena, n):\n",
    "    for i in range(len(cadena),0,-1):\n",
    "        print(cadena[i],-1)\n",
    "       \n",
    "        return print(cadena[i],-1)\n",
    "\n",
    "reverse_number(\"Hola\",2)"
   ]
  }
 ],
 "metadata": {
  "kernelspec": {
   "display_name": "Python 3 (ipykernel)",
   "language": "python",
   "name": "python3"
  },
  "language_info": {
   "codemirror_mode": {
    "name": "ipython",
    "version": 3
   },
   "file_extension": ".py",
   "mimetype": "text/x-python",
   "name": "python",
   "nbconvert_exporter": "python",
   "pygments_lexer": "ipython3",
   "version": "3.7.4"
  }
 },
 "nbformat": 4,
 "nbformat_minor": 4
}
